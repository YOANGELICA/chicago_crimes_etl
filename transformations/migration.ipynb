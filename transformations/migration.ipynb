{
 "cells": [
  {
   "cell_type": "code",
   "execution_count": 9,
   "metadata": {},
   "outputs": [],
   "source": [
    "import pandas as pd\n",
    "import json\n",
    "import mysql.connector\n",
    "import csv"
   ]
  },
  {
   "cell_type": "code",
   "execution_count": 66,
   "metadata": {},
   "outputs": [],
   "source": [
    "csv_file = \"data/Crimes_2001_to_Present.csv\"\n",
    "df = pd.read_csv(csv_file)"
   ]
  },
  {
   "cell_type": "code",
   "execution_count": 67,
   "metadata": {},
   "outputs": [
    {
     "data": {
      "text/plain": [
       "(7846809, 22)"
      ]
     },
     "execution_count": 67,
     "metadata": {},
     "output_type": "execute_result"
    }
   ],
   "source": [
    "df.shape"
   ]
  },
  {
   "cell_type": "code",
   "execution_count": 68,
   "metadata": {},
   "outputs": [
    {
     "name": "stdout",
     "output_type": "stream",
     "text": [
      "<class 'pandas.core.frame.DataFrame'>\n",
      "RangeIndex: 7846809 entries, 0 to 7846808\n",
      "Data columns (total 22 columns):\n",
      " #   Column                Dtype  \n",
      "---  ------                -----  \n",
      " 0   ID                    int64  \n",
      " 1   Case Number           object \n",
      " 2   Date                  object \n",
      " 3   Block                 object \n",
      " 4   IUCR                  object \n",
      " 5   Primary Type          object \n",
      " 6   Description           object \n",
      " 7   Location Description  object \n",
      " 8   Arrest                bool   \n",
      " 9   Domestic              bool   \n",
      " 10  Beat                  int64  \n",
      " 11  District              float64\n",
      " 12  Ward                  float64\n",
      " 13  Community Area        float64\n",
      " 14  FBI Code              object \n",
      " 15  X Coordinate          float64\n",
      " 16  Y Coordinate          float64\n",
      " 17  Year                  int64  \n",
      " 18  Updated On            object \n",
      " 19  Latitude              float64\n",
      " 20  Longitude             float64\n",
      " 21  Location              object \n",
      "dtypes: bool(2), float64(7), int64(3), object(10)\n",
      "memory usage: 1.2+ GB\n"
     ]
    }
   ],
   "source": [
    "df.info()"
   ]
  },
  {
   "cell_type": "code",
   "execution_count": 69,
   "metadata": {},
   "outputs": [
    {
     "data": {
      "text/plain": [
       "ID                           0\n",
       "Case Number                  4\n",
       "Date                         0\n",
       "Block                        0\n",
       "IUCR                         0\n",
       "Primary Type                 0\n",
       "Description                  0\n",
       "Location Description     10758\n",
       "Arrest                       0\n",
       "Domestic                     0\n",
       "Beat                         0\n",
       "District                    47\n",
       "Ward                    614849\n",
       "Community Area          613476\n",
       "FBI Code                     0\n",
       "X Coordinate             88111\n",
       "Y Coordinate             88111\n",
       "Year                         0\n",
       "Updated On                   0\n",
       "Latitude                 88111\n",
       "Longitude                88111\n",
       "Location                 88111\n",
       "dtype: int64"
      ]
     },
     "execution_count": 69,
     "metadata": {},
     "output_type": "execute_result"
    }
   ],
   "source": [
    "df.isnull().sum()"
   ]
  },
  {
   "cell_type": "markdown",
   "metadata": {},
   "source": [
    "## Reapplying transformations"
   ]
  },
  {
   "cell_type": "markdown",
   "metadata": {},
   "source": [
    "#### Creating Time column"
   ]
  },
  {
   "cell_type": "code",
   "execution_count": 70,
   "metadata": {},
   "outputs": [],
   "source": [
    "# turning date column into datetime to extract the time and create the time column\n",
    "df['Date'] = pd.to_datetime(df['Date'], format='%m/%d/%Y %I:%M:%S %p')\n",
    "df['Time'] = df['Date'].apply(lambda x: x.time())\n",
    "move_time = df.pop('Time')\n",
    "df.insert(3,'Time', move_time)"
   ]
  },
  {
   "cell_type": "markdown",
   "metadata": {},
   "source": [
    "##### Changing Updated On date format"
   ]
  },
  {
   "cell_type": "code",
   "execution_count": 71,
   "metadata": {},
   "outputs": [],
   "source": [
    "# changing updated_on format\n",
    "df['Updated On'] = pd.to_datetime(df['Updated On'], format='%m/%d/%Y %I:%M:%S %p')"
   ]
  },
  {
   "cell_type": "markdown",
   "metadata": {},
   "source": [
    "#### Adjussting Date column as date only"
   ]
  },
  {
   "cell_type": "code",
   "execution_count": 72,
   "metadata": {},
   "outputs": [],
   "source": [
    "# taking just the date part, converting into dtype object\n",
    "df['Date'] = pd.to_datetime(df['Date'], format='%m/%d/%Y %I:%M:%S %p').dt.date"
   ]
  },
  {
   "cell_type": "markdown",
   "metadata": {},
   "source": [
    "#### Replacing null values"
   ]
  },
  {
   "cell_type": "code",
   "execution_count": 73,
   "metadata": {},
   "outputs": [],
   "source": [
    "# replacing nulls\n",
    "df = df.fillna({'Case Number': 'NULL', 'Location Description': 'NULL'})\n",
    "df = df.fillna({'District': 0, 'Ward': 0, 'Community Area': 0})"
   ]
  },
  {
   "cell_type": "code",
   "execution_count": 74,
   "metadata": {},
   "outputs": [],
   "source": [
    "cols = ['District', 'Ward', 'Community Area', 'Arrest', 'Domestic']\n",
    "df[cols] = df[cols].astype(int)"
   ]
  },
  {
   "cell_type": "code",
   "execution_count": 75,
   "metadata": {},
   "outputs": [
    {
     "name": "stdout",
     "output_type": "stream",
     "text": [
      "<class 'pandas.core.frame.DataFrame'>\n",
      "RangeIndex: 7846809 entries, 0 to 7846808\n",
      "Data columns (total 23 columns):\n",
      " #   Column                Dtype         \n",
      "---  ------                -----         \n",
      " 0   ID                    int64         \n",
      " 1   Case Number           object        \n",
      " 2   Date                  object        \n",
      " 3   Time                  object        \n",
      " 4   Block                 object        \n",
      " 5   IUCR                  object        \n",
      " 6   Primary Type          object        \n",
      " 7   Description           object        \n",
      " 8   Location Description  object        \n",
      " 9   Arrest                int32         \n",
      " 10  Domestic              int32         \n",
      " 11  Beat                  int64         \n",
      " 12  District              int32         \n",
      " 13  Ward                  int32         \n",
      " 14  Community Area        int32         \n",
      " 15  FBI Code              object        \n",
      " 16  X Coordinate          float64       \n",
      " 17  Y Coordinate          float64       \n",
      " 18  Year                  int64         \n",
      " 19  Updated On            datetime64[ns]\n",
      " 20  Latitude              float64       \n",
      " 21  Longitude             float64       \n",
      " 22  Location              object        \n",
      "dtypes: datetime64[ns](1), float64(4), int32(5), int64(3), object(10)\n",
      "memory usage: 1.2+ GB\n"
     ]
    }
   ],
   "source": [
    "df.info()"
   ]
  },
  {
   "cell_type": "code",
   "execution_count": 76,
   "metadata": {},
   "outputs": [
    {
     "data": {
      "text/html": [
       "<div>\n",
       "<style scoped>\n",
       "    .dataframe tbody tr th:only-of-type {\n",
       "        vertical-align: middle;\n",
       "    }\n",
       "\n",
       "    .dataframe tbody tr th {\n",
       "        vertical-align: top;\n",
       "    }\n",
       "\n",
       "    .dataframe thead th {\n",
       "        text-align: right;\n",
       "    }\n",
       "</style>\n",
       "<table border=\"1\" class=\"dataframe\">\n",
       "  <thead>\n",
       "    <tr style=\"text-align: right;\">\n",
       "      <th></th>\n",
       "      <th>ID</th>\n",
       "      <th>Case Number</th>\n",
       "      <th>Date</th>\n",
       "      <th>Time</th>\n",
       "      <th>Block</th>\n",
       "      <th>IUCR</th>\n",
       "      <th>Primary Type</th>\n",
       "      <th>Description</th>\n",
       "      <th>Location Description</th>\n",
       "      <th>Arrest</th>\n",
       "      <th>...</th>\n",
       "      <th>Ward</th>\n",
       "      <th>Community Area</th>\n",
       "      <th>FBI Code</th>\n",
       "      <th>X Coordinate</th>\n",
       "      <th>Y Coordinate</th>\n",
       "      <th>Year</th>\n",
       "      <th>Updated On</th>\n",
       "      <th>Latitude</th>\n",
       "      <th>Longitude</th>\n",
       "      <th>Location</th>\n",
       "    </tr>\n",
       "  </thead>\n",
       "  <tbody>\n",
       "    <tr>\n",
       "      <th>0</th>\n",
       "      <td>11646166</td>\n",
       "      <td>JC213529</td>\n",
       "      <td>2018-09-01</td>\n",
       "      <td>00:01:00</td>\n",
       "      <td>082XX S INGLESIDE AVE</td>\n",
       "      <td>0810</td>\n",
       "      <td>THEFT</td>\n",
       "      <td>OVER $500</td>\n",
       "      <td>RESIDENCE</td>\n",
       "      <td>0</td>\n",
       "      <td>...</td>\n",
       "      <td>8</td>\n",
       "      <td>44</td>\n",
       "      <td>06</td>\n",
       "      <td>NaN</td>\n",
       "      <td>NaN</td>\n",
       "      <td>2018</td>\n",
       "      <td>2019-04-06 16:04:43</td>\n",
       "      <td>NaN</td>\n",
       "      <td>NaN</td>\n",
       "      <td>NaN</td>\n",
       "    </tr>\n",
       "    <tr>\n",
       "      <th>1</th>\n",
       "      <td>11645836</td>\n",
       "      <td>JC212333</td>\n",
       "      <td>2016-05-01</td>\n",
       "      <td>00:25:00</td>\n",
       "      <td>055XX S ROCKWELL ST</td>\n",
       "      <td>1153</td>\n",
       "      <td>DECEPTIVE PRACTICE</td>\n",
       "      <td>FINANCIAL IDENTITY THEFT OVER $ 300</td>\n",
       "      <td>NULL</td>\n",
       "      <td>0</td>\n",
       "      <td>...</td>\n",
       "      <td>15</td>\n",
       "      <td>63</td>\n",
       "      <td>11</td>\n",
       "      <td>NaN</td>\n",
       "      <td>NaN</td>\n",
       "      <td>2016</td>\n",
       "      <td>2019-04-06 16:04:43</td>\n",
       "      <td>NaN</td>\n",
       "      <td>NaN</td>\n",
       "      <td>NaN</td>\n",
       "    </tr>\n",
       "    <tr>\n",
       "      <th>2</th>\n",
       "      <td>11449702</td>\n",
       "      <td>JB373031</td>\n",
       "      <td>2018-07-31</td>\n",
       "      <td>13:30:00</td>\n",
       "      <td>009XX E HYDE PARK BLVD</td>\n",
       "      <td>2024</td>\n",
       "      <td>NARCOTICS</td>\n",
       "      <td>POSS: HEROIN(WHITE)</td>\n",
       "      <td>STREET</td>\n",
       "      <td>1</td>\n",
       "      <td>...</td>\n",
       "      <td>5</td>\n",
       "      <td>41</td>\n",
       "      <td>18</td>\n",
       "      <td>NaN</td>\n",
       "      <td>NaN</td>\n",
       "      <td>2018</td>\n",
       "      <td>2019-04-09 16:24:58</td>\n",
       "      <td>NaN</td>\n",
       "      <td>NaN</td>\n",
       "      <td>NaN</td>\n",
       "    </tr>\n",
       "    <tr>\n",
       "      <th>3</th>\n",
       "      <td>11643334</td>\n",
       "      <td>JC209972</td>\n",
       "      <td>2018-12-19</td>\n",
       "      <td>16:30:00</td>\n",
       "      <td>056XX W WELLINGTON AVE</td>\n",
       "      <td>1320</td>\n",
       "      <td>CRIMINAL DAMAGE</td>\n",
       "      <td>TO VEHICLE</td>\n",
       "      <td>STREET</td>\n",
       "      <td>0</td>\n",
       "      <td>...</td>\n",
       "      <td>31</td>\n",
       "      <td>19</td>\n",
       "      <td>14</td>\n",
       "      <td>NaN</td>\n",
       "      <td>NaN</td>\n",
       "      <td>2018</td>\n",
       "      <td>2019-04-04 16:16:11</td>\n",
       "      <td>NaN</td>\n",
       "      <td>NaN</td>\n",
       "      <td>NaN</td>\n",
       "    </tr>\n",
       "    <tr>\n",
       "      <th>4</th>\n",
       "      <td>11645527</td>\n",
       "      <td>JC212744</td>\n",
       "      <td>2015-02-02</td>\n",
       "      <td>10:00:00</td>\n",
       "      <td>069XX W ARCHER AVE</td>\n",
       "      <td>1153</td>\n",
       "      <td>DECEPTIVE PRACTICE</td>\n",
       "      <td>FINANCIAL IDENTITY THEFT OVER $ 300</td>\n",
       "      <td>OTHER</td>\n",
       "      <td>0</td>\n",
       "      <td>...</td>\n",
       "      <td>23</td>\n",
       "      <td>56</td>\n",
       "      <td>11</td>\n",
       "      <td>NaN</td>\n",
       "      <td>NaN</td>\n",
       "      <td>2015</td>\n",
       "      <td>2019-04-06 16:04:43</td>\n",
       "      <td>NaN</td>\n",
       "      <td>NaN</td>\n",
       "      <td>NaN</td>\n",
       "    </tr>\n",
       "  </tbody>\n",
       "</table>\n",
       "<p>5 rows × 23 columns</p>\n",
       "</div>"
      ],
      "text/plain": [
       "         ID Case Number        Date      Time                   Block  IUCR  \\\n",
       "0  11646166    JC213529  2018-09-01  00:01:00   082XX S INGLESIDE AVE  0810   \n",
       "1  11645836    JC212333  2016-05-01  00:25:00     055XX S ROCKWELL ST  1153   \n",
       "2  11449702    JB373031  2018-07-31  13:30:00  009XX E HYDE PARK BLVD  2024   \n",
       "3  11643334    JC209972  2018-12-19  16:30:00  056XX W WELLINGTON AVE  1320   \n",
       "4  11645527    JC212744  2015-02-02  10:00:00      069XX W ARCHER AVE  1153   \n",
       "\n",
       "         Primary Type                          Description  \\\n",
       "0               THEFT                            OVER $500   \n",
       "1  DECEPTIVE PRACTICE  FINANCIAL IDENTITY THEFT OVER $ 300   \n",
       "2           NARCOTICS                  POSS: HEROIN(WHITE)   \n",
       "3     CRIMINAL DAMAGE                           TO VEHICLE   \n",
       "4  DECEPTIVE PRACTICE  FINANCIAL IDENTITY THEFT OVER $ 300   \n",
       "\n",
       "  Location Description  Arrest  ...  Ward  Community Area  FBI Code  \\\n",
       "0            RESIDENCE       0  ...     8              44        06   \n",
       "1                 NULL       0  ...    15              63        11   \n",
       "2               STREET       1  ...     5              41        18   \n",
       "3               STREET       0  ...    31              19        14   \n",
       "4                OTHER       0  ...    23              56        11   \n",
       "\n",
       "   X Coordinate  Y Coordinate  Year          Updated On  Latitude  Longitude  \\\n",
       "0           NaN           NaN  2018 2019-04-06 16:04:43       NaN        NaN   \n",
       "1           NaN           NaN  2016 2019-04-06 16:04:43       NaN        NaN   \n",
       "2           NaN           NaN  2018 2019-04-09 16:24:58       NaN        NaN   \n",
       "3           NaN           NaN  2018 2019-04-04 16:16:11       NaN        NaN   \n",
       "4           NaN           NaN  2015 2019-04-06 16:04:43       NaN        NaN   \n",
       "\n",
       "  Location  \n",
       "0      NaN  \n",
       "1      NaN  \n",
       "2      NaN  \n",
       "3      NaN  \n",
       "4      NaN  \n",
       "\n",
       "[5 rows x 23 columns]"
      ]
     },
     "execution_count": 76,
     "metadata": {},
     "output_type": "execute_result"
    }
   ],
   "source": [
    "df.head()"
   ]
  },
  {
   "cell_type": "code",
   "execution_count": 77,
   "metadata": {},
   "outputs": [
    {
     "data": {
      "text/plain": [
       "Index(['id', 'case_number', 'date', 'time', 'block', 'iucr', 'primary_type',\n",
       "       'description', 'location_desc', 'arrest', 'domestic', 'beat',\n",
       "       'district', 'ward', 'community_area', 'fbi_code', 'x_coord', 'y_coord',\n",
       "       'year', 'updated_on', 'latitude', 'longitude', 'location'],\n",
       "      dtype='object')"
      ]
     },
     "execution_count": 77,
     "metadata": {},
     "output_type": "execute_result"
    }
   ],
   "source": [
    "df.columns = [\"id\",\"case_number\",\"date\", \"time\", \"block\",\"iucr\",\"primary_type\",\"description\",\"location_desc\",\"arrest\",\"domestic\",\"beat\",\"district\",\"ward\", \"community_area\", \"fbi_code\", \"x_coord\",\n",
    "       \"y_coord\",\"year\",\"updated_on\",\"latitude\",\"longitude\", \"location\"]\n",
    "df.columns"
   ]
  },
  {
   "cell_type": "code",
   "execution_count": 78,
   "metadata": {},
   "outputs": [
    {
     "name": "stdout",
     "output_type": "stream",
     "text": [
      "               id case_number        date      time                   block  \\\n",
      "0        11646166    JC213529  2018-09-01  00:01:00   082XX S INGLESIDE AVE   \n",
      "1        11645836    JC212333  2016-05-01  00:25:00     055XX S ROCKWELL ST   \n",
      "2        11449702    JB373031  2018-07-31  13:30:00  009XX E HYDE PARK BLVD   \n",
      "3        11643334    JC209972  2018-12-19  16:30:00  056XX W WELLINGTON AVE   \n",
      "4        11645527    JC212744  2015-02-02  10:00:00      069XX W ARCHER AVE   \n",
      "...           ...         ...         ...       ...                     ...   \n",
      "7846804  13128007    JG325985  2023-06-21  20:00:00  031XX N CALIFORNIA AVE   \n",
      "7846805  13129172    JG327619  2023-06-20  04:00:00   028XX N MAPLEWOOD AVE   \n",
      "7846806  13128066    JG325838  2023-06-06  15:42:00    018XX N LOCKWOOD AVE   \n",
      "7846807  13128324    JG326502  2023-05-13  12:00:00       020XX W CERMAK RD   \n",
      "7846808  13128375    JG326564  2023-06-24  13:29:00    069XX N HAMILTON AVE   \n",
      "\n",
      "         iucr                primary_type  \\\n",
      "0        0810                       THEFT   \n",
      "1        1153          DECEPTIVE PRACTICE   \n",
      "2        2024                   NARCOTICS   \n",
      "3        1320             CRIMINAL DAMAGE   \n",
      "4        1153          DECEPTIVE PRACTICE   \n",
      "...       ...                         ...   \n",
      "7846804  1320             CRIMINAL DAMAGE   \n",
      "7846805  0460                     BATTERY   \n",
      "7846806  1752  OFFENSE INVOLVING CHILDREN   \n",
      "7846807  1120          DECEPTIVE PRACTICE   \n",
      "7846808  1330           CRIMINAL TRESPASS   \n",
      "\n",
      "                                               description      location_desc  \\\n",
      "0                                                OVER $500          RESIDENCE   \n",
      "1                      FINANCIAL IDENTITY THEFT OVER $ 300               NULL   \n",
      "2                                      POSS: HEROIN(WHITE)             STREET   \n",
      "3                                               TO VEHICLE             STREET   \n",
      "4                      FINANCIAL IDENTITY THEFT OVER $ 300              OTHER   \n",
      "...                                                    ...                ...   \n",
      "7846804                                         TO VEHICLE             STREET   \n",
      "7846805                                             SIMPLE          RESIDENCE   \n",
      "7846806  AGGRAVATED CRIMINAL SEXUAL ABUSE BY FAMILY MEMBER          APARTMENT   \n",
      "7846807                                            FORGERY  CURRENCY EXCHANGE   \n",
      "7846808                                            TO LAND          RESIDENCE   \n",
      "\n",
      "         arrest  ...  ward  community_area  fbi_code    x_coord    y_coord  \\\n",
      "0             0  ...     8              44        06        NaN        NaN   \n",
      "1             0  ...    15              63        11        NaN        NaN   \n",
      "2             1  ...     5              41        18        NaN        NaN   \n",
      "3             0  ...    31              19        14        NaN        NaN   \n",
      "4             0  ...    23              56        11        NaN        NaN   \n",
      "...         ...  ...   ...             ...       ...        ...        ...   \n",
      "7846804       0  ...    35              21        14  1157169.0  1920611.0   \n",
      "7846805       0  ...    35              21       08B  1158868.0  1918755.0   \n",
      "7846806       0  ...    37              25        17  1140792.0  1911954.0   \n",
      "7846807       0  ...    25              31        10  1163211.0  1889404.0   \n",
      "7846808       0  ...    40               2        26  1160740.0  1946176.0   \n",
      "\n",
      "         year          updated_on   latitude  longitude  \\\n",
      "0        2018 2019-04-06 16:04:43        NaN        NaN   \n",
      "1        2016 2019-04-06 16:04:43        NaN        NaN   \n",
      "2        2018 2019-04-09 16:24:58        NaN        NaN   \n",
      "3        2018 2019-04-04 16:16:11        NaN        NaN   \n",
      "4        2015 2019-04-06 16:04:43        NaN        NaN   \n",
      "...       ...                 ...        ...        ...   \n",
      "7846804  2023 2023-07-15 16:45:57  41.937926 -87.697782   \n",
      "7846805  2023 2023-07-15 16:45:57  41.932798 -87.691589   \n",
      "7846806  2023 2023-07-15 16:45:57  41.914487 -87.758185   \n",
      "7846807  2023 2023-07-15 16:45:57  41.852166 -87.676455   \n",
      "7846808  2023 2023-07-15 16:45:57  42.008004 -87.683946   \n",
      "\n",
      "                                  location  \n",
      "0                                      NaN  \n",
      "1                                      NaN  \n",
      "2                                      NaN  \n",
      "3                                      NaN  \n",
      "4                                      NaN  \n",
      "...                                    ...  \n",
      "7846804  POINT(41.937925817 -87.697782474)  \n",
      "7846805  POINT(41.932798095 -87.691589364)  \n",
      "7846806  POINT(41.914487492 -87.758185241)  \n",
      "7846807   POINT(41.85216632 -87.676455032)  \n",
      "7846808  POINT(42.008003927 -87.683946124)  \n",
      "\n",
      "[7846809 rows x 23 columns]\n"
     ]
    }
   ],
   "source": [
    "not_null_mask = ~df['latitude'].isnull() & ~df['longitude'].isnull()\n",
    "\n",
    "# Apply the transformation only for non-null values\n",
    "df.loc[not_null_mask, 'location'] = df[not_null_mask].apply(lambda row: f\"POINT({row['latitude']} {row['longitude']})\", axis=1)\n",
    "\n",
    "print(df)"
   ]
  },
  {
   "cell_type": "code",
   "execution_count": 79,
   "metadata": {},
   "outputs": [],
   "source": [
    "df= df.dropna(subset=['location'])"
   ]
  },
  {
   "cell_type": "code",
   "execution_count": 80,
   "metadata": {},
   "outputs": [
    {
     "data": {
      "text/plain": [
       "(7758698, 23)"
      ]
     },
     "execution_count": 80,
     "metadata": {},
     "output_type": "execute_result"
    }
   ],
   "source": [
    "df.shape"
   ]
  },
  {
   "cell_type": "code",
   "execution_count": 81,
   "metadata": {},
   "outputs": [
    {
     "data": {
      "text/plain": [
       "id                0\n",
       "case_number       0\n",
       "date              0\n",
       "time              0\n",
       "block             0\n",
       "iucr              0\n",
       "primary_type      0\n",
       "description       0\n",
       "location_desc     0\n",
       "arrest            0\n",
       "domestic          0\n",
       "beat              0\n",
       "district          0\n",
       "ward              0\n",
       "community_area    0\n",
       "fbi_code          0\n",
       "x_coord           0\n",
       "y_coord           0\n",
       "year              0\n",
       "updated_on        0\n",
       "latitude          0\n",
       "longitude         0\n",
       "location          0\n",
       "dtype: int64"
      ]
     },
     "execution_count": 81,
     "metadata": {},
     "output_type": "execute_result"
    }
   ],
   "source": [
    "df.isnull().sum()"
   ]
  },
  {
   "cell_type": "code",
   "execution_count": 82,
   "metadata": {},
   "outputs": [],
   "source": [
    "df.to_csv('data/data.csv', index=False)"
   ]
  },
  {
   "cell_type": "markdown",
   "metadata": {},
   "source": [
    "#### Taking half of the data to upload"
   ]
  },
  {
   "cell_type": "code",
   "execution_count": 86,
   "metadata": {},
   "outputs": [],
   "source": [
    "sampled_df = df.sample(frac=0.5, random_state=42)"
   ]
  },
  {
   "cell_type": "code",
   "execution_count": 88,
   "metadata": {},
   "outputs": [
    {
     "data": {
      "text/plain": [
       "(3879349, 23)"
      ]
     },
     "execution_count": 88,
     "metadata": {},
     "output_type": "execute_result"
    }
   ],
   "source": [
    "sampled_df.shape"
   ]
  },
  {
   "cell_type": "markdown",
   "metadata": {},
   "source": [
    "#### Loading the data into the database"
   ]
  },
  {
   "cell_type": "code",
   "execution_count": 87,
   "metadata": {},
   "outputs": [],
   "source": [
    "sampled_df.to_csv('data/data_sample.csv', index=False)"
   ]
  },
  {
   "cell_type": "code",
   "execution_count": 83,
   "metadata": {},
   "outputs": [],
   "source": [
    "with open('config_db.json') as config_json:\n",
    "    config = json.load(config_json)\n",
    "\n",
    "conx = mysql.connector.connect(**config) "
   ]
  },
  {
   "cell_type": "code",
   "execution_count": 91,
   "metadata": {},
   "outputs": [
    {
     "name": "stdout",
     "output_type": "stream",
     "text": [
      "             Field             Type Null  Key Default Extra\n",
      "0               id           b'int'   NO  PRI    None      \n",
      "1      case_number   b'varchar(10)'  YES         None      \n",
      "2             date          b'date'  YES         None      \n",
      "3             time          b'time'  YES         None      \n",
      "4            block  b'varchar(150)'  YES         None      \n",
      "5             iucr   b'varchar(10)'  YES         None      \n",
      "6     primary_type  b'varchar(150)'  YES         None      \n",
      "7      description  b'varchar(150)'  YES         None      \n",
      "8    location_desc  b'varchar(150)'  YES         None      \n",
      "9           arrest    b'tinyint(1)'  YES         None      \n",
      "10        domestic    b'tinyint(1)'  YES         None      \n",
      "11            beat           b'int'  YES         None      \n",
      "12        district           b'int'  YES         None      \n",
      "13            ward           b'int'  YES         None      \n",
      "14  community_area           b'int'  YES         None      \n",
      "15        fbi_code    b'varchar(5)'  YES         None      \n",
      "16         x_coord   b'varchar(15)'  YES         None      \n",
      "17         y_coord   b'varchar(15)'  YES         None      \n",
      "18            year           b'int'  YES         None      \n",
      "19      updated_on      b'datetime'  YES         None      \n",
      "20        latitude         b'float'  YES         None      \n",
      "21       longitude         b'float'  YES         None      \n",
      "22        location         b'point'  YES         None      \n"
     ]
    },
    {
     "data": {
      "text/plain": [
       "False"
      ]
     },
     "execution_count": 91,
     "metadata": {},
     "output_type": "execute_result"
    }
   ],
   "source": [
    "mycursor = conx.cursor()\n",
    "\n",
    "mycursor.execute(\"\"\"CREATE TABLE IF NOT EXISTS crimes (\n",
    "                 id int PRIMARY KEY,\n",
    "                 case_number VARCHAR(10),\n",
    "                 date date, \n",
    "                 time time, \n",
    "                 block VARCHAR(150), \n",
    "                 iucr VARCHAR(10), \n",
    "                 primary_type VARCHAR(150), \n",
    "                 description VARCHAR(150), \n",
    "                 location_desc VARCHAR(150), \n",
    "                 arrest boolean, \n",
    "                 domestic boolean, \n",
    "                 beat int, \n",
    "                 district int, \n",
    "                 ward int, \n",
    "                 community_area int, \n",
    "                 fbi_code VARCHAR(5), \n",
    "                 x_coord VARCHAR(15), \n",
    "                 y_coord VARCHAR(15), \n",
    "                 year int, \n",
    "                 updated_on datetime, \n",
    "                 latitude float, \n",
    "                 longitude float, \n",
    "                 location point)\"\"\")\n",
    "\n",
    "query = \"DESCRIBE crimes\"\n",
    "mycursor.execute(query)\n",
    "\n",
    "description_table = mycursor.fetchall()\n",
    "\n",
    "mycursor.close()\n",
    "\n",
    "# we have seen the creation of the table \n",
    "desc_table=pd.DataFrame(description_table, columns=['Field', 'Type', 'Null', 'Key', 'Default', 'Extra'])\n",
    "print(desc_table)\n",
    "\n",
    "mycursor.close()"
   ]
  },
  {
   "cell_type": "code",
   "execution_count": 90,
   "metadata": {},
   "outputs": [
    {
     "data": {
      "text/plain": [
       "True"
      ]
     },
     "execution_count": 90,
     "metadata": {},
     "output_type": "execute_result"
    }
   ],
   "source": [
    "#Delete table, just in case :)... delete because of varchar's lengths\n",
    "# mycursor = conx.cursor()\n",
    "\n",
    "# query = \"DROP table crimes\"\n",
    "# mycursor.execute(query)\n",
    "\n",
    "# mycursor.close()"
   ]
  },
  {
   "cell_type": "code",
   "execution_count": 92,
   "metadata": {},
   "outputs": [
    {
     "data": {
      "text/plain": [
       "True"
      ]
     },
     "execution_count": 92,
     "metadata": {},
     "output_type": "execute_result"
    }
   ],
   "source": [
    "mycursor = conx.cursor()\n",
    "\n",
    "query2 = \"\"\"INSERT INTO crimes (id,case_number,date, time, block, iucr, primary_type, description, location_desc, arrest, domestic, beat, district, ward, community_area, fbi_code, x_coord, y_coord, year, updated_on, latitude, longitude, location) \n",
    "VALUES (%s,%s,%s,%s,%s,%s,%s,%s,%s,%s,%s,%s,%s,%s,%s,%s,%s,%s,%s,%s,%s,%s,ST_GeomFromText(%s))\"\"\"\n",
    "\n",
    "\n",
    "with open('data/data_sample.csv', newline='') as csvfile:\n",
    "        reader = csv.reader(csvfile, delimiter=',')\n",
    "        next(reader) # ignore column names\n",
    "        for row in reader:\n",
    "            datos= (row[0], row[1], row[2], row[3],\n",
    "                                  row[4], row[5], row[6], row[7],\n",
    "                                  row[8], row[9], row[10], row[11],\n",
    "                                  row[12], row[13], row[14], row[15], row[16], row[17],\n",
    "                                  row[18], row[19], row[20], row[21], row[22])\n",
    "            mycursor.execute(query2, datos)\n",
    "    \n",
    "conx.commit()\n",
    "\n",
    "mycursor.close()"
   ]
  },
  {
   "cell_type": "code",
   "execution_count": 94,
   "metadata": {},
   "outputs": [
    {
     "data": {
      "text/plain": [
       "True"
      ]
     },
     "execution_count": 94,
     "metadata": {},
     "output_type": "execute_result"
    }
   ],
   "source": [
    "mycursor = conx.cursor()\n",
    "\n",
    "query3 = \"\"\"ALTER TABLE crimes\n",
    "DROP case_number, DROP domestic, DROP beat, DROP ward, DROP community_area, DROP fbi_code, DROP x_coord, DROP y_coord, DROP latitude, DROP longitude\"\"\"\n",
    "\n",
    "mycursor.execute(query3)\n",
    "conx.commit()\n",
    "\n",
    "mycursor.close()"
   ]
  },
  {
   "cell_type": "markdown",
   "metadata": {},
   "source": [
    "#### We have to delete the rows of iucr column in crimes that do not appear in codes, beacuse these are not in the official IUCR dataset."
   ]
  },
  {
   "cell_type": "code",
   "execution_count": null,
   "metadata": {},
   "outputs": [],
   "source": [
    "mycursor = conx.cursor()\n",
    "\n",
    "add_fk = \"\"\"DELETE FROM crimes\n",
    "            WHERE iucr NOT IN (SELECT iucr FROM codes);\"\"\"\n",
    "\n",
    "mycursor.execute(add_fk)\n",
    "conx.commit()\n",
    "mycursor.close()"
   ]
  },
  {
   "cell_type": "code",
   "execution_count": 96,
   "metadata": {},
   "outputs": [
    {
     "data": {
      "text/plain": [
       "True"
      ]
     },
     "execution_count": 96,
     "metadata": {},
     "output_type": "execute_result"
    }
   ],
   "source": [
    "mycursor = conx.cursor()\n",
    "\n",
    "add_fk = \"\"\"ALTER TABLE crimes\n",
    "            ADD CONSTRAINT fk_iucr_codes\n",
    "            FOREIGN KEY (iucr)\n",
    "            REFERENCES codes(iucr)\"\"\"\n",
    "\n",
    "mycursor.execute(add_fk)\n",
    "conx.commit()\n",
    "mycursor.close()"
   ]
  },
  {
   "cell_type": "code",
   "execution_count": 97,
   "metadata": {},
   "outputs": [
    {
     "name": "stdout",
     "output_type": "stream",
     "text": [
      "            Field             Type Null  Key Default Extra\n",
      "0              id           b'int'   NO  PRI    None      \n",
      "1            date          b'date'  YES         None      \n",
      "2            time          b'time'  YES         None      \n",
      "3           block  b'varchar(150)'  YES         None      \n",
      "4            iucr   b'varchar(10)'  YES  MUL    None      \n",
      "5   location_desc  b'varchar(150)'  YES         None      \n",
      "6          arrest    b'tinyint(1)'  YES         None      \n",
      "7        district           b'int'  YES         None      \n",
      "8            year           b'int'  YES         None      \n",
      "9      updated_on      b'datetime'  YES         None      \n",
      "10       location         b'point'  YES         None      \n"
     ]
    }
   ],
   "source": [
    "mycursor = conx.cursor()\n",
    "\n",
    "query = \"DESCRIBE crimes\"\n",
    "mycursor.execute(query)\n",
    "\n",
    "description_table = mycursor.fetchall()\n",
    "\n",
    "mycursor.close()\n",
    "\n",
    "# we have seen the creation of the table \n",
    "desc_table=pd.DataFrame(description_table, columns=['Field', 'Type', 'Null', 'Key', 'Default', 'Extra'])\n",
    "print(desc_table)"
   ]
  }
 ],
 "metadata": {
  "kernelspec": {
   "display_name": "etl_env",
   "language": "python",
   "name": "python3"
  },
  "language_info": {
   "codemirror_mode": {
    "name": "ipython",
    "version": 3
   },
   "file_extension": ".py",
   "mimetype": "text/x-python",
   "name": "python",
   "nbconvert_exporter": "python",
   "pygments_lexer": "ipython3",
   "version": "3.10.11"
  }
 },
 "nbformat": 4,
 "nbformat_minor": 2
}
