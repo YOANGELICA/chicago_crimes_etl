{
 "cells": [
  {
   "cell_type": "code",
   "execution_count": 4,
   "metadata": {},
   "outputs": [],
   "source": [
    "import pandas as pd\n",
    "from sodapy import Socrata\n",
    "import pandas as pd"
   ]
  },
  {
   "cell_type": "code",
   "execution_count": 5,
   "metadata": {},
   "outputs": [
    {
     "name": "stderr",
     "output_type": "stream",
     "text": [
      "WARNING:root:Requests made without an app_token will be subject to strict throttling limits.\n"
     ]
    }
   ],
   "source": [
    "client = Socrata(\"data.cityofchicago.org\", None)"
   ]
  },
  {
   "cell_type": "code",
   "execution_count": 10,
   "metadata": {},
   "outputs": [],
   "source": [
    "# Domain and ID of the API: https://data.cityofchicago.org/resource/ijzp-q8t2.json\n",
    "\n",
    "socrata_domain = 'data.cityofchicago.org'\n",
    "socrata_dataset_identifier = 'ijzp-q8t2'\n",
    "\n",
    "socrata_token = \"dSRObUzfL26kRQSv8taMQQDNf\" #You'll need to obtain your own API token from your Open Data Chicago account.\n",
    "\n"
   ]
  },
  {
   "cell_type": "code",
   "execution_count": 11,
   "metadata": {},
   "outputs": [
    {
     "name": "stdout",
     "output_type": "stream",
     "text": [
      "Domain: data.cityofchicago.org\n",
      "Session: <requests.sessions.Session object at 0x0000027EE67AF700>\n",
      "URI Prefix: https://\n"
     ]
    }
   ],
   "source": [
    "client = Socrata(socrata_domain, socrata_token, timeout=100)\n",
    "print(\"Domain: {domain:}\\nSession: {session:}\\nURI Prefix: {uri_prefix:}\".format(**client.__dict__))"
   ]
  },
  {
   "cell_type": "code",
   "execution_count": 12,
   "metadata": {},
   "outputs": [
    {
     "data": {
      "text/html": [
       "<div>\n",
       "<style scoped>\n",
       "    .dataframe tbody tr th:only-of-type {\n",
       "        vertical-align: middle;\n",
       "    }\n",
       "\n",
       "    .dataframe tbody tr th {\n",
       "        vertical-align: top;\n",
       "    }\n",
       "\n",
       "    .dataframe thead th {\n",
       "        text-align: right;\n",
       "    }\n",
       "</style>\n",
       "<table border=\"1\" class=\"dataframe\">\n",
       "  <thead>\n",
       "    <tr style=\"text-align: right;\">\n",
       "      <th></th>\n",
       "      <th>id</th>\n",
       "      <th>case_number</th>\n",
       "      <th>date</th>\n",
       "      <th>block</th>\n",
       "      <th>iucr</th>\n",
       "      <th>primary_type</th>\n",
       "      <th>description</th>\n",
       "      <th>location_description</th>\n",
       "      <th>arrest</th>\n",
       "      <th>domestic</th>\n",
       "      <th>...</th>\n",
       "      <th>location</th>\n",
       "      <th>:@computed_region_awaf_s7ux</th>\n",
       "      <th>:@computed_region_6mkv_f3dw</th>\n",
       "      <th>:@computed_region_vrxf_vc4k</th>\n",
       "      <th>:@computed_region_bdys_3d7i</th>\n",
       "      <th>:@computed_region_43wa_7qmu</th>\n",
       "      <th>:@computed_region_rpca_8um6</th>\n",
       "      <th>:@computed_region_d9mm_jgwp</th>\n",
       "      <th>:@computed_region_d3ds_rm58</th>\n",
       "      <th>:@computed_region_8hcu_yrd4</th>\n",
       "    </tr>\n",
       "  </thead>\n",
       "  <tbody>\n",
       "    <tr>\n",
       "      <th>0</th>\n",
       "      <td>13240041</td>\n",
       "      <td>JG458435</td>\n",
       "      <td>2023-10-10T00:00:00.000</td>\n",
       "      <td>092XX S DAUPHIN AVE</td>\n",
       "      <td>2826</td>\n",
       "      <td>OTHER OFFENSE</td>\n",
       "      <td>HARASSMENT BY ELECTRONIC MEANS</td>\n",
       "      <td>APARTMENT</td>\n",
       "      <td>False</td>\n",
       "      <td>True</td>\n",
       "      <td>...</td>\n",
       "      <td>{'latitude': '41.727096769', 'longitude': '-87...</td>\n",
       "      <td>9</td>\n",
       "      <td>21546</td>\n",
       "      <td>40</td>\n",
       "      <td>429</td>\n",
       "      <td>35</td>\n",
       "      <td>61</td>\n",
       "      <td>20</td>\n",
       "      <td>248</td>\n",
       "      <td>10</td>\n",
       "    </tr>\n",
       "    <tr>\n",
       "      <th>1</th>\n",
       "      <td>13245996</td>\n",
       "      <td>JG466824</td>\n",
       "      <td>2023-10-10T00:00:00.000</td>\n",
       "      <td>008XX N LAKE SHORE DR</td>\n",
       "      <td>1150</td>\n",
       "      <td>DECEPTIVE PRACTICE</td>\n",
       "      <td>CREDIT CARD FRAUD</td>\n",
       "      <td>APARTMENT</td>\n",
       "      <td>False</td>\n",
       "      <td>False</td>\n",
       "      <td>...</td>\n",
       "      <td>NaN</td>\n",
       "      <td>NaN</td>\n",
       "      <td>NaN</td>\n",
       "      <td>NaN</td>\n",
       "      <td>NaN</td>\n",
       "      <td>NaN</td>\n",
       "      <td>NaN</td>\n",
       "      <td>NaN</td>\n",
       "      <td>NaN</td>\n",
       "      <td>NaN</td>\n",
       "    </tr>\n",
       "    <tr>\n",
       "      <th>2</th>\n",
       "      <td>13238380</td>\n",
       "      <td>JG457523</td>\n",
       "      <td>2023-10-10T00:00:00.000</td>\n",
       "      <td>030XX W WELLINGTON AVE</td>\n",
       "      <td>0910</td>\n",
       "      <td>MOTOR VEHICLE THEFT</td>\n",
       "      <td>AUTOMOBILE</td>\n",
       "      <td>STREET</td>\n",
       "      <td>False</td>\n",
       "      <td>False</td>\n",
       "      <td>...</td>\n",
       "      <td>{'latitude': '41.935703007', 'longitude': '-87...</td>\n",
       "      <td>15</td>\n",
       "      <td>21538</td>\n",
       "      <td>22</td>\n",
       "      <td>465</td>\n",
       "      <td>20</td>\n",
       "      <td>39</td>\n",
       "      <td>7</td>\n",
       "      <td>174</td>\n",
       "      <td>35</td>\n",
       "    </tr>\n",
       "    <tr>\n",
       "      <th>3</th>\n",
       "      <td>13238859</td>\n",
       "      <td>JG458132</td>\n",
       "      <td>2023-10-10T00:00:00.000</td>\n",
       "      <td>024XX N PARKSIDE AVE</td>\n",
       "      <td>031A</td>\n",
       "      <td>ROBBERY</td>\n",
       "      <td>ARMED - HANDGUN</td>\n",
       "      <td>SIDEWALK</td>\n",
       "      <td>False</td>\n",
       "      <td>False</td>\n",
       "      <td>...</td>\n",
       "      <td>{'latitude': '41.924622979', 'longitude': '-87...</td>\n",
       "      <td>27</td>\n",
       "      <td>22615</td>\n",
       "      <td>19</td>\n",
       "      <td>58</td>\n",
       "      <td>21</td>\n",
       "      <td>2</td>\n",
       "      <td>6</td>\n",
       "      <td>133</td>\n",
       "      <td>30</td>\n",
       "    </tr>\n",
       "    <tr>\n",
       "      <th>4</th>\n",
       "      <td>13238993</td>\n",
       "      <td>JG458124</td>\n",
       "      <td>2023-10-10T00:00:00.000</td>\n",
       "      <td>063XX S VERNON AVE</td>\n",
       "      <td>0930</td>\n",
       "      <td>MOTOR VEHICLE THEFT</td>\n",
       "      <td>THEFT / RECOVERY - AUTOMOBILE</td>\n",
       "      <td>ALLEY</td>\n",
       "      <td>False</td>\n",
       "      <td>False</td>\n",
       "      <td>...</td>\n",
       "      <td>{'latitude': '41.779806892', 'longitude': '-87...</td>\n",
       "      <td>53</td>\n",
       "      <td>22260</td>\n",
       "      <td>9</td>\n",
       "      <td>332</td>\n",
       "      <td>4</td>\n",
       "      <td>60</td>\n",
       "      <td>18</td>\n",
       "      <td>277</td>\n",
       "      <td>20</td>\n",
       "    </tr>\n",
       "  </tbody>\n",
       "</table>\n",
       "<p>5 rows × 31 columns</p>\n",
       "</div>"
      ],
      "text/plain": [
       "         id case_number                     date                   block  \\\n",
       "0  13240041    JG458435  2023-10-10T00:00:00.000     092XX S DAUPHIN AVE   \n",
       "1  13245996    JG466824  2023-10-10T00:00:00.000   008XX N LAKE SHORE DR   \n",
       "2  13238380    JG457523  2023-10-10T00:00:00.000  030XX W WELLINGTON AVE   \n",
       "3  13238859    JG458132  2023-10-10T00:00:00.000    024XX N PARKSIDE AVE   \n",
       "4  13238993    JG458124  2023-10-10T00:00:00.000      063XX S VERNON AVE   \n",
       "\n",
       "   iucr         primary_type                     description  \\\n",
       "0  2826        OTHER OFFENSE  HARASSMENT BY ELECTRONIC MEANS   \n",
       "1  1150   DECEPTIVE PRACTICE               CREDIT CARD FRAUD   \n",
       "2  0910  MOTOR VEHICLE THEFT                      AUTOMOBILE   \n",
       "3  031A              ROBBERY                 ARMED - HANDGUN   \n",
       "4  0930  MOTOR VEHICLE THEFT   THEFT / RECOVERY - AUTOMOBILE   \n",
       "\n",
       "  location_description  arrest  domestic  ...  \\\n",
       "0            APARTMENT   False      True  ...   \n",
       "1            APARTMENT   False     False  ...   \n",
       "2               STREET   False     False  ...   \n",
       "3             SIDEWALK   False     False  ...   \n",
       "4                ALLEY   False     False  ...   \n",
       "\n",
       "                                            location  \\\n",
       "0  {'latitude': '41.727096769', 'longitude': '-87...   \n",
       "1                                                NaN   \n",
       "2  {'latitude': '41.935703007', 'longitude': '-87...   \n",
       "3  {'latitude': '41.924622979', 'longitude': '-87...   \n",
       "4  {'latitude': '41.779806892', 'longitude': '-87...   \n",
       "\n",
       "  :@computed_region_awaf_s7ux :@computed_region_6mkv_f3dw  \\\n",
       "0                           9                       21546   \n",
       "1                         NaN                         NaN   \n",
       "2                          15                       21538   \n",
       "3                          27                       22615   \n",
       "4                          53                       22260   \n",
       "\n",
       "  :@computed_region_vrxf_vc4k :@computed_region_bdys_3d7i  \\\n",
       "0                          40                         429   \n",
       "1                         NaN                         NaN   \n",
       "2                          22                         465   \n",
       "3                          19                          58   \n",
       "4                           9                         332   \n",
       "\n",
       "  :@computed_region_43wa_7qmu :@computed_region_rpca_8um6  \\\n",
       "0                          35                          61   \n",
       "1                         NaN                         NaN   \n",
       "2                          20                          39   \n",
       "3                          21                           2   \n",
       "4                           4                          60   \n",
       "\n",
       "  :@computed_region_d9mm_jgwp :@computed_region_d3ds_rm58  \\\n",
       "0                          20                         248   \n",
       "1                         NaN                         NaN   \n",
       "2                           7                         174   \n",
       "3                           6                         133   \n",
       "4                          18                         277   \n",
       "\n",
       "  :@computed_region_8hcu_yrd4  \n",
       "0                          10  \n",
       "1                         NaN  \n",
       "2                          35  \n",
       "3                          30  \n",
       "4                          20  \n",
       "\n",
       "[5 rows x 31 columns]"
      ]
     },
     "execution_count": 12,
     "metadata": {},
     "output_type": "execute_result"
    }
   ],
   "source": [
    "results = client.get(socrata_dataset_identifier)\n",
    "df = pd.DataFrame.from_dict(results)\n",
    "df.head()"
   ]
  },
  {
   "cell_type": "code",
   "execution_count": 13,
   "metadata": {},
   "outputs": [
    {
     "data": {
      "text/plain": [
       "(1000, 31)"
      ]
     },
     "execution_count": 13,
     "metadata": {},
     "output_type": "execute_result"
    }
   ],
   "source": [
    "df.shape"
   ]
  },
  {
   "cell_type": "markdown",
   "metadata": {},
   "source": [
    "By default, we can only retrieve 1000 records in each request. However, since we require all the most up-to-date records, we've implemented the following technique:"
   ]
  },
  {
   "cell_type": "code",
   "execution_count": 6,
   "metadata": {},
   "outputs": [],
   "source": [
    "all_records = []"
   ]
  },
  {
   "cell_type": "code",
   "execution_count": 7,
   "metadata": {},
   "outputs": [
    {
     "name": "stdout",
     "output_type": "stream",
     "text": [
      "Total records retrieved: 899939\n"
     ]
    }
   ],
   "source": [
    "#We will take the most recent records, i.e., those starting from record 7000000\n",
    "offset = 7000000\n",
    "\n",
    "# Set a batch size (the number of records to retrieve in each request)\n",
    "batch_size = 1000\n",
    "\n",
    "\n",
    "while True:\n",
    "\n",
    "    results = client.get(socrata_dataset_identifier, limit=batch_size, offset=offset)\n",
    "    \n",
    "    if not results:\n",
    "        break\n",
    "    \n",
    "    all_records.extend(results)\n",
    "    \n",
    "    offset += batch_size\n",
    "\n",
    "print(\"Total records retrieved:\", len(all_records))"
   ]
  },
  {
   "cell_type": "code",
   "execution_count": 27,
   "metadata": {},
   "outputs": [
    {
     "data": {
      "text/plain": [
       "50635"
      ]
     },
     "execution_count": 27,
     "metadata": {},
     "output_type": "execute_result"
    }
   ],
   "source": [
    "len(all_records)"
   ]
  },
  {
   "cell_type": "code",
   "execution_count": 22,
   "metadata": {},
   "outputs": [],
   "source": [
    "df = pd.DataFrame(all_records)"
   ]
  },
  {
   "cell_type": "code",
   "execution_count": 23,
   "metadata": {},
   "outputs": [
    {
     "data": {
      "text/plain": [
       "(50635, 31)"
      ]
     },
     "execution_count": 23,
     "metadata": {},
     "output_type": "execute_result"
    }
   ],
   "source": [
    "df.shape"
   ]
  },
  {
   "cell_type": "code",
   "execution_count": 24,
   "metadata": {},
   "outputs": [],
   "source": [
    "df.to_csv(\"data_again.csv\", index=False)"
   ]
  },
  {
   "cell_type": "code",
   "execution_count": 12,
   "metadata": {},
   "outputs": [
    {
     "data": {
      "text/html": [
       "<div>\n",
       "<style scoped>\n",
       "    .dataframe tbody tr th:only-of-type {\n",
       "        vertical-align: middle;\n",
       "    }\n",
       "\n",
       "    .dataframe tbody tr th {\n",
       "        vertical-align: top;\n",
       "    }\n",
       "\n",
       "    .dataframe thead th {\n",
       "        text-align: right;\n",
       "    }\n",
       "</style>\n",
       "<table border=\"1\" class=\"dataframe\">\n",
       "  <thead>\n",
       "    <tr style=\"text-align: right;\">\n",
       "      <th></th>\n",
       "      <th>id</th>\n",
       "      <th>case_number</th>\n",
       "      <th>date</th>\n",
       "      <th>block</th>\n",
       "      <th>iucr</th>\n",
       "      <th>primary_type</th>\n",
       "      <th>description</th>\n",
       "      <th>location_description</th>\n",
       "      <th>arrest</th>\n",
       "      <th>domestic</th>\n",
       "      <th>...</th>\n",
       "      <th>location</th>\n",
       "      <th>:@computed_region_awaf_s7ux</th>\n",
       "      <th>:@computed_region_6mkv_f3dw</th>\n",
       "      <th>:@computed_region_vrxf_vc4k</th>\n",
       "      <th>:@computed_region_bdys_3d7i</th>\n",
       "      <th>:@computed_region_43wa_7qmu</th>\n",
       "      <th>:@computed_region_rpca_8um6</th>\n",
       "      <th>:@computed_region_d9mm_jgwp</th>\n",
       "      <th>:@computed_region_d3ds_rm58</th>\n",
       "      <th>:@computed_region_8hcu_yrd4</th>\n",
       "    </tr>\n",
       "  </thead>\n",
       "  <tbody>\n",
       "    <tr>\n",
       "      <th>0</th>\n",
       "      <td>2490215</td>\n",
       "      <td>HH828219</td>\n",
       "      <td>2002-11-02T00:00:00.000</td>\n",
       "      <td>069XX S CRANDON AVE</td>\n",
       "      <td>0820</td>\n",
       "      <td>THEFT</td>\n",
       "      <td>$500 AND UNDER</td>\n",
       "      <td>STREET</td>\n",
       "      <td>False</td>\n",
       "      <td>False</td>\n",
       "      <td>...</td>\n",
       "      <td>{'latitude': '41.769231153', 'longitude': '-87...</td>\n",
       "      <td>32</td>\n",
       "      <td>22538</td>\n",
       "      <td>39</td>\n",
       "      <td>142</td>\n",
       "      <td>33</td>\n",
       "      <td>24</td>\n",
       "      <td>18</td>\n",
       "      <td>262</td>\n",
       "      <td>3</td>\n",
       "    </tr>\n",
       "    <tr>\n",
       "      <th>1</th>\n",
       "      <td>2432490</td>\n",
       "      <td>HH751126</td>\n",
       "      <td>2002-11-02T00:00:00.000</td>\n",
       "      <td>009XX N SACRAMENTO BLVD</td>\n",
       "      <td>1130</td>\n",
       "      <td>DECEPTIVE PRACTICE</td>\n",
       "      <td>FRAUD OR CONFIDENCE GAME</td>\n",
       "      <td>RESIDENCE</td>\n",
       "      <td>False</td>\n",
       "      <td>False</td>\n",
       "      <td>...</td>\n",
       "      <td>{'latitude': '41.898648713', 'longitude': '-87...</td>\n",
       "      <td>10</td>\n",
       "      <td>21560</td>\n",
       "      <td>24</td>\n",
       "      <td>150</td>\n",
       "      <td>49</td>\n",
       "      <td>4</td>\n",
       "      <td>15</td>\n",
       "      <td>64</td>\n",
       "      <td>36</td>\n",
       "    </tr>\n",
       "    <tr>\n",
       "      <th>2</th>\n",
       "      <td>2465178</td>\n",
       "      <td>HH792958</td>\n",
       "      <td>2002-11-02T00:00:00.000</td>\n",
       "      <td>021XX S CHINA PL</td>\n",
       "      <td>0840</td>\n",
       "      <td>THEFT</td>\n",
       "      <td>FINANCIAL ID THEFT: OVER $300</td>\n",
       "      <td>BANK</td>\n",
       "      <td>False</td>\n",
       "      <td>False</td>\n",
       "      <td>...</td>\n",
       "      <td>{'latitude': '41.853969331', 'longitude': '-87...</td>\n",
       "      <td>8</td>\n",
       "      <td>21194</td>\n",
       "      <td>35</td>\n",
       "      <td>3</td>\n",
       "      <td>26</td>\n",
       "      <td>40</td>\n",
       "      <td>23</td>\n",
       "      <td>157</td>\n",
       "      <td>7</td>\n",
       "    </tr>\n",
       "    <tr>\n",
       "      <th>3</th>\n",
       "      <td>2432906</td>\n",
       "      <td>HH754101</td>\n",
       "      <td>2002-11-02T00:00:00.000</td>\n",
       "      <td>023XX N LINCOLN PARK WEST</td>\n",
       "      <td>0890</td>\n",
       "      <td>THEFT</td>\n",
       "      <td>FROM BUILDING</td>\n",
       "      <td>RESIDENCE PORCH/HALLWAY</td>\n",
       "      <td>False</td>\n",
       "      <td>False</td>\n",
       "      <td>...</td>\n",
       "      <td>{'latitude': '41.924521686', 'longitude': '-87...</td>\n",
       "      <td>51</td>\n",
       "      <td>21190</td>\n",
       "      <td>68</td>\n",
       "      <td>207</td>\n",
       "      <td>34</td>\n",
       "      <td>16</td>\n",
       "      <td>14</td>\n",
       "      <td>134</td>\n",
       "      <td>43</td>\n",
       "    </tr>\n",
       "    <tr>\n",
       "      <th>4</th>\n",
       "      <td>2433869</td>\n",
       "      <td>HH754167</td>\n",
       "      <td>2002-11-02T00:00:00.000</td>\n",
       "      <td>031XX N WESTERN AVE</td>\n",
       "      <td>1320</td>\n",
       "      <td>CRIMINAL DAMAGE</td>\n",
       "      <td>TO VEHICLE</td>\n",
       "      <td>STREET</td>\n",
       "      <td>False</td>\n",
       "      <td>False</td>\n",
       "      <td>...</td>\n",
       "      <td>{'latitude': '41.938892966', 'longitude': '-87...</td>\n",
       "      <td>24</td>\n",
       "      <td>21538</td>\n",
       "      <td>46</td>\n",
       "      <td>110</td>\n",
       "      <td>20</td>\n",
       "      <td>39</td>\n",
       "      <td>5</td>\n",
       "      <td>172</td>\n",
       "      <td>47</td>\n",
       "    </tr>\n",
       "  </tbody>\n",
       "</table>\n",
       "<p>5 rows × 31 columns</p>\n",
       "</div>"
      ],
      "text/plain": [
       "        id case_number                     date                      block  \\\n",
       "0  2490215    HH828219  2002-11-02T00:00:00.000        069XX S CRANDON AVE   \n",
       "1  2432490    HH751126  2002-11-02T00:00:00.000    009XX N SACRAMENTO BLVD   \n",
       "2  2465178    HH792958  2002-11-02T00:00:00.000           021XX S CHINA PL   \n",
       "3  2432906    HH754101  2002-11-02T00:00:00.000  023XX N LINCOLN PARK WEST   \n",
       "4  2433869    HH754167  2002-11-02T00:00:00.000        031XX N WESTERN AVE   \n",
       "\n",
       "   iucr        primary_type                    description  \\\n",
       "0  0820               THEFT                 $500 AND UNDER   \n",
       "1  1130  DECEPTIVE PRACTICE       FRAUD OR CONFIDENCE GAME   \n",
       "2  0840               THEFT  FINANCIAL ID THEFT: OVER $300   \n",
       "3  0890               THEFT                  FROM BUILDING   \n",
       "4  1320     CRIMINAL DAMAGE                     TO VEHICLE   \n",
       "\n",
       "      location_description  arrest  domestic  ...  \\\n",
       "0                   STREET   False     False  ...   \n",
       "1                RESIDENCE   False     False  ...   \n",
       "2                     BANK   False     False  ...   \n",
       "3  RESIDENCE PORCH/HALLWAY   False     False  ...   \n",
       "4                   STREET   False     False  ...   \n",
       "\n",
       "                                            location  \\\n",
       "0  {'latitude': '41.769231153', 'longitude': '-87...   \n",
       "1  {'latitude': '41.898648713', 'longitude': '-87...   \n",
       "2  {'latitude': '41.853969331', 'longitude': '-87...   \n",
       "3  {'latitude': '41.924521686', 'longitude': '-87...   \n",
       "4  {'latitude': '41.938892966', 'longitude': '-87...   \n",
       "\n",
       "  :@computed_region_awaf_s7ux :@computed_region_6mkv_f3dw  \\\n",
       "0                          32                       22538   \n",
       "1                          10                       21560   \n",
       "2                           8                       21194   \n",
       "3                          51                       21190   \n",
       "4                          24                       21538   \n",
       "\n",
       "  :@computed_region_vrxf_vc4k :@computed_region_bdys_3d7i  \\\n",
       "0                          39                         142   \n",
       "1                          24                         150   \n",
       "2                          35                           3   \n",
       "3                          68                         207   \n",
       "4                          46                         110   \n",
       "\n",
       "  :@computed_region_43wa_7qmu :@computed_region_rpca_8um6  \\\n",
       "0                          33                          24   \n",
       "1                          49                           4   \n",
       "2                          26                          40   \n",
       "3                          34                          16   \n",
       "4                          20                          39   \n",
       "\n",
       "  :@computed_region_d9mm_jgwp :@computed_region_d3ds_rm58  \\\n",
       "0                          18                         262   \n",
       "1                          15                          64   \n",
       "2                          23                         157   \n",
       "3                          14                         134   \n",
       "4                           5                         172   \n",
       "\n",
       "  :@computed_region_8hcu_yrd4  \n",
       "0                           3  \n",
       "1                          36  \n",
       "2                           7  \n",
       "3                          43  \n",
       "4                          47  \n",
       "\n",
       "[5 rows x 31 columns]"
      ]
     },
     "execution_count": 12,
     "metadata": {},
     "output_type": "execute_result"
    }
   ],
   "source": [
    "df.head()"
   ]
  },
  {
   "cell_type": "code",
   "execution_count": 25,
   "metadata": {},
   "outputs": [
    {
     "data": {
      "text/plain": [
       "'2023-07-15T08:00:00.000'"
      ]
     },
     "execution_count": 25,
     "metadata": {},
     "output_type": "execute_result"
    }
   ],
   "source": [
    "df['date'].min()"
   ]
  },
  {
   "cell_type": "code",
   "execution_count": 26,
   "metadata": {},
   "outputs": [
    {
     "data": {
      "text/plain": [
       "'2023-09-21T00:00:00.000'"
      ]
     },
     "execution_count": 26,
     "metadata": {},
     "output_type": "execute_result"
    }
   ],
   "source": [
    "df['date'].max()"
   ]
  }
 ],
 "metadata": {
  "kernelspec": {
   "display_name": "Python 3",
   "language": "python",
   "name": "python3"
  },
  "language_info": {
   "codemirror_mode": {
    "name": "ipython",
    "version": 3
   },
   "file_extension": ".py",
   "mimetype": "text/x-python",
   "name": "python",
   "nbconvert_exporter": "python",
   "pygments_lexer": "ipython3",
   "version": "3.10.5"
  },
  "orig_nbformat": 4
 },
 "nbformat": 4,
 "nbformat_minor": 2
}
