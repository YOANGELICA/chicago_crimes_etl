{
 "cells": [
  {
   "cell_type": "code",
   "execution_count": 1,
   "metadata": {},
   "outputs": [],
   "source": [
    "import requests\n",
    "import pandas as pd\n",
    "import json\n",
    "import mysql.connector\n",
    "import matplotlib.pyplot as plt"
   ]
  },
  {
   "cell_type": "code",
   "execution_count": 2,
   "metadata": {},
   "outputs": [
    {
     "name": "stdout",
     "output_type": "stream",
     "text": [
      "  iucr      primary_description     secondary_description index_code  active\n",
      "0  110                 HOMICIDE       FIRST DEGREE MURDER          I    True\n",
      "1  130                 HOMICIDE      SECOND DEGREE MURDER          I    True\n",
      "2  141                 HOMICIDE  INVOLUNTARY MANSLAUGHTER          N    True\n",
      "3  142                 HOMICIDE         RECKLESS HOMICIDE          N    True\n",
      "4  261  CRIMINAL SEXUAL ASSAULT      AGGRAVATED - HANDGUN          I    True\n",
      "(410, 5)\n"
     ]
    }
   ],
   "source": [
    "url = \"https://data.cityofchicago.org/resource/c7ck-438e.json\"\n",
    "\n",
    "try:\n",
    "    response = requests.get(url)\n",
    "    data = response.json()\n",
    "    # print(data)\n",
    "    iucr = [x['iucr'] for x in data]\n",
    "    primary_description = [x['primary_description'] for x in data]\n",
    "    secondary_description = [x['secondary_description'] for x in data]\n",
    "    secondary_description = [x['secondary_description'] for x in data]\n",
    "    index_code = [x['index_code'] for x in data]\n",
    "    active = [x['active'] for x in data]\n",
    "\n",
    "except requests.exceptions.RequestException as e:\n",
    "    print(f\"Error: {e}\")\n",
    "\n",
    "data = {\n",
    "            'iucr': iucr,\n",
    "            'primary_description': primary_description,\n",
    "            'secondary_description':secondary_description,\n",
    "            'index_code': index_code,\n",
    "            'active': active\n",
    "        }\n",
    "\n",
    "df = pd.DataFrame(data)\n",
    "print(df.head())\n",
    "print(df.shape)"
   ]
  },
  {
   "cell_type": "code",
   "execution_count": 3,
   "metadata": {},
   "outputs": [
    {
     "data": {
      "text/plain": [
       "iucr                     410\n",
       "primary_description       33\n",
       "secondary_description    384\n",
       "index_code                 2\n",
       "active                     2\n",
       "dtype: int64"
      ]
     },
     "execution_count": 3,
     "metadata": {},
     "output_type": "execute_result"
    }
   ],
   "source": [
    "df.nunique()"
   ]
  },
  {
   "cell_type": "markdown",
   "metadata": {},
   "source": [
    "## Table columns\n",
    "Now we have a dimension table to get more information about the crime types. This is a description of each column.\n",
    "\n",
    "- **iucr:** This is the primary key of this table and the foreign key for the 'crimes' table. This code corresponds to the Illinois Uniform Crime Reporting which is used tp classify criminal incidents when creating a report.\n",
    "\n",
    "- **primary_description:** This description gives us a category of the crime as a general description.\n",
    "\n",
    "- **secondary_description:** This is a subtype of each category of the crime that gives more information about the incident.\n",
    "\n",
    "- **index_code:** This index divides the crimes into two categories; \"Index\" and \"Non-index\"offenses. According to the chicago data portal, the index offenses include murder, criminal sexual assault, robbery, aggravated assault & battery, burglary, theft, motor vehicle theft, and arson. While the non-index offenses are all other types of criminal incidents, including vandalism, weapons violations, public peace violations, etc.\n",
    "\n",
    "- **active:** This column shows whether the code is active. Retired codes (No) are present in this dataset for historical reference. Since our analysis covers crimes since 2001, there might have been crimes that occurred then that are now retired, so this column is important.\n"
   ]
  },
  {
   "cell_type": "code",
   "execution_count": 4,
   "metadata": {},
   "outputs": [],
   "source": [
    "with open('config_db.json') as config_json:\n",
    "    config = json.load(config_json)\n",
    "\n",
    "conx = mysql.connector.connect(**config) "
   ]
  },
  {
   "cell_type": "code",
   "execution_count": null,
   "metadata": {},
   "outputs": [],
   "source": [
    "mycursor = conx.cursor()\n",
    "\n",
    "mycursor.execute(\"ALTER TABLE crimes DROP COLUMN primary_type, DROP COLUMN description\")\n",
    "\n",
    "query = \"DESCRIBE crimes\"\n",
    "mycursor.execute(query)\n",
    "\n",
    "description_table = mycursor.fetchall()\n",
    "\n",
    "mycursor.close()\n",
    "\n",
    "# we have seen the creation of the table \n",
    "desc_table=pd.DataFrame(description_table, columns=['Field', 'Type', 'Null', 'Key', 'Default', 'Extra'])\n",
    "print(desc_table)\n",
    "\n",
    "mycursor.close()"
   ]
  },
  {
   "cell_type": "markdown",
   "metadata": {},
   "source": [
    "### Insert dimension into DB"
   ]
  },
  {
   "cell_type": "code",
   "execution_count": 8,
   "metadata": {},
   "outputs": [
    {
     "name": "stdout",
     "output_type": "stream",
     "text": [
      "                   Field            Type Null  Key Default Extra\n",
      "0                   iucr  b'varchar(10)'   NO  PRI    None      \n",
      "1    primary_description  b'varchar(50)'  YES         None      \n",
      "2  secondary_description  b'varchar(70)'  YES         None      \n",
      "3             index_code   b'varchar(5)'  YES         None      \n",
      "4                 active   b'tinyint(1)'  YES         None      \n"
     ]
    }
   ],
   "source": [
    "mycursor = conx.cursor()\n",
    "\n",
    "mycursor.execute(\"\"\"CREATE TABLE IF NOT EXISTS codes(\n",
    "                 iucr varchar(10) \n",
    "                 PRIMARY KEY,\n",
    "                 primary_description VARCHAR(50),\n",
    "                 secondary_description VARCHAR(70),\n",
    "                 index_code VARCHAR(5),\n",
    "                 active boolean)\"\"\")\n",
    "\n",
    "query = \"DESCRIBE codes\"\n",
    "mycursor.execute(query)\n",
    "\n",
    "description_table = mycursor.fetchall()\n",
    "\n",
    "mycursor.close()\n",
    "\n",
    "# we have seen the creation of the table \n",
    "desc_table=pd.DataFrame(description_table, columns=['Field', 'Type', 'Null', 'Key', 'Default', 'Extra'])\n",
    "print(desc_table)\n"
   ]
  },
  {
   "cell_type": "code",
   "execution_count": 9,
   "metadata": {},
   "outputs": [
    {
     "data": {
      "text/plain": [
       "True"
      ]
     },
     "execution_count": 9,
     "metadata": {},
     "output_type": "execute_result"
    }
   ],
   "source": [
    "mycursor = conx.cursor()\n",
    "\n",
    "# inserting into db\n",
    "for index, row in df.iterrows():\n",
    "    insert = \"INSERT INTO codes (iucr, primary_description, secondary_description, index_code, active) VALUES (%s, %s, %s, %s, %s)\"\n",
    "    data = (row['iucr'], row['primary_description'], row['secondary_description'], row['index_code'], row['active'])\n",
    "    mycursor.execute(insert, data)\n",
    "\n",
    "conx.commit()\n",
    "\n",
    "mycursor.close()"
   ]
  },
  {
   "cell_type": "code",
   "execution_count": 7,
   "metadata": {},
   "outputs": [
    {
     "data": {
      "text/plain": [
       "True"
      ]
     },
     "execution_count": 7,
     "metadata": {},
     "output_type": "execute_result"
    }
   ],
   "source": [
    "# #Delete table, just in case :)... delete because of varchar's lengths\n",
    "# mycursor = conx.cursor()\n",
    "\n",
    "# query = \"DROP table codes\"\n",
    "# mycursor.execute(query)\n",
    "\n",
    "# mycursor.close()"
   ]
  },
  {
   "cell_type": "markdown",
   "metadata": {},
   "source": [
    "When we saw the first rows of the dataframe of the data extracted form the API, we saw some inconsistencies in the iucr column. Let's check the values in our table."
   ]
  },
  {
   "cell_type": "code",
   "execution_count": 14,
   "metadata": {},
   "outputs": [
    {
     "name": "stdout",
     "output_type": "stream",
     "text": [
      "   iucr\n",
      "0  5132\n",
      "1  5131\n",
      "2  5130\n",
      "3  5122\n",
      "4  5121\n",
      "5  5120\n",
      "6  5112\n",
      "7  5111\n",
      "8  5110\n",
      "9  502T\n"
     ]
    }
   ],
   "source": [
    "mycursor = conx.cursor()\n",
    "\n",
    "distinct_crimes = \"SELECT DISTINCT iucr FROM crimes ORDER BY iucr DESC LIMIT 10\"\n",
    "\n",
    "mycursor.execute(distinct_crimes)\n",
    "from_crimes = mycursor.fetchall()\n",
    "mycursor.close()\n",
    "\n",
    "crimes_iucr_df = pd.DataFrame(from_crimes, columns=['iucr'])\n",
    "\n",
    "print(crimes_iucr_df)"
   ]
  },
  {
   "cell_type": "code",
   "execution_count": 15,
   "metadata": {},
   "outputs": [
    {
     "name": "stdout",
     "output_type": "stream",
     "text": [
      "  iucr\n",
      "0  938\n",
      "1  937\n",
      "2  935\n",
      "3  930\n",
      "4  928\n",
      "5  927\n",
      "6  925\n",
      "7  920\n",
      "8  918\n",
      "9  917\n"
     ]
    }
   ],
   "source": [
    "mycursor = conx.cursor()\n",
    "\n",
    "distinct_iucr = \"SELECT iucr FROM codes ORDER BY iucr DESC LIMIT 10\"\n",
    "\n",
    "mycursor.execute(distinct_iucr)\n",
    "from_iucr = mycursor.fetchall()\n",
    "mycursor.close()\n",
    "\n",
    "iucr_df = pd.DataFrame(from_iucr, columns=['iucr'])\n",
    "\n",
    "print(iucr_df)\n"
   ]
  },
  {
   "cell_type": "markdown",
   "metadata": {},
   "source": [
    "We can see that the values for the iucr column do not match for both tables. This is an issue because this is the link between both tables, it must be the same. Let's look more into this..."
   ]
  },
  {
   "cell_type": "code",
   "execution_count": 16,
   "metadata": {},
   "outputs": [
    {
     "name": "stdout",
     "output_type": "stream",
     "text": [
      "   num_3_characters\n",
      "0               109\n"
     ]
    }
   ],
   "source": [
    "mycursor = conx.cursor()\n",
    "\n",
    "three_char_iucr = \"SELECT COUNT(iucr) FROM codes WHERE LENGTH(iucr) = 3\"\n",
    "\n",
    "mycursor.execute(three_char_iucr)\n",
    "results = mycursor.fetchall()\n",
    "mycursor.close()\n",
    "\n",
    "three_char_iucr_df = pd.DataFrame(results, columns=['num_3_characters'])\n",
    "\n",
    "print(three_char_iucr_df)"
   ]
  },
  {
   "cell_type": "code",
   "execution_count": 17,
   "metadata": {},
   "outputs": [
    {
     "name": "stdout",
     "output_type": "stream",
     "text": [
      "   num_3_characters\n",
      "0                 0\n"
     ]
    }
   ],
   "source": [
    "mycursor = conx.cursor()\n",
    "\n",
    "three_char_crimes = \"SELECT COUNT(iucr) FROM crimes WHERE LENGTH(iucr) = 3\"\n",
    "\n",
    "mycursor.execute(three_char_crimes)\n",
    "results = mycursor.fetchall()\n",
    "mycursor.close()\n",
    "\n",
    "three_char_crimes_df = pd.DataFrame(results, columns=['num_3_characters'])\n",
    "\n",
    "print(three_char_crimes_df)"
   ]
  },
  {
   "cell_type": "markdown",
   "metadata": {},
   "source": [
    "We can see that some values in the IUCR column have 3 characters, this is because the API where the data was extracted manages some codes with 3 characters whereas our Kaggle dataset contains minimum 4 characters for all IUCR codes and adds a 0 before the three character codes. Here we can see it with the first degree murder crime as an example"
   ]
  },
  {
   "cell_type": "code",
   "execution_count": 6,
   "metadata": {},
   "outputs": [
    {
     "name": "stdout",
     "output_type": "stream",
     "text": [
      "     0         1                    2\n",
      "0  110  HOMICIDE  FIRST DEGREE MURDER\n"
     ]
    }
   ],
   "source": [
    "mycursor = conx.cursor()\n",
    "\n",
    "homicide_iucr = \"SELECT iucr, primary_description, secondary_description FROM codes WHERE iucr = '110'\"\n",
    "\n",
    "mycursor.execute(homicide_iucr)\n",
    "results = mycursor.fetchall()\n",
    "mycursor.close()\n",
    "\n",
    "homicide_iucr_df = pd.DataFrame(results)\n",
    "\n",
    "print(homicide_iucr_df)"
   ]
  },
  {
   "cell_type": "code",
   "execution_count": 63,
   "metadata": {},
   "outputs": [
    {
     "name": "stdout",
     "output_type": "stream",
     "text": [
      "      0         1                    2\n",
      "0  0110  HOMICIDE  FIRST DEGREE MURDER\n"
     ]
    }
   ],
   "source": [
    "mycursor = conx.cursor()\n",
    "\n",
    "homicide_crimes = \"SELECT iucr, primary_type, description FROM crimes WHERE iucr = '0110' LIMIT 1\"\n",
    "\n",
    "mycursor.execute(homicide_crimes)\n",
    "results = mycursor.fetchall()\n",
    "mycursor.close()\n",
    "\n",
    "homicide_crimes_df = pd.DataFrame(results)\n",
    "\n",
    "print(homicide_crimes_df)"
   ]
  },
  {
   "cell_type": "markdown",
   "metadata": {},
   "source": [
    "We can solve this through an SQL statement like the following:"
   ]
  },
  {
   "cell_type": "code",
   "execution_count": 18,
   "metadata": {},
   "outputs": [
    {
     "data": {
      "text/plain": [
       "True"
      ]
     },
     "execution_count": 18,
     "metadata": {},
     "output_type": "execute_result"
    }
   ],
   "source": [
    "mycursor = conx.cursor()\n",
    "\n",
    "update = \"\"\"UPDATE codes\n",
    "           SET iucr = \n",
    "            CASE \n",
    "                WHEN LENGTH(iucr) = 3 THEN CONCAT('0', iucr)\n",
    "                ELSE iucr\n",
    "            END;\"\"\"\n",
    "\n",
    "mycursor.execute(update)\n",
    "conx.commit()\n",
    "mycursor.close()"
   ]
  },
  {
   "cell_type": "markdown",
   "metadata": {},
   "source": [
    "Now we can check that the query is correct by trying to find the three character codes and finding the IUCR '110' once again. This time neither should return anything."
   ]
  },
  {
   "cell_type": "code",
   "execution_count": 19,
   "metadata": {},
   "outputs": [
    {
     "name": "stdout",
     "output_type": "stream",
     "text": [
      "   num_3_characters\n",
      "0                 0\n"
     ]
    }
   ],
   "source": [
    "mycursor = conx.cursor()\n",
    "\n",
    "three_char_iucr = \"SELECT COUNT(iucr) FROM codes WHERE LENGTH(iucr) = 3\"\n",
    "\n",
    "mycursor.execute(three_char_iucr)\n",
    "results = mycursor.fetchall()\n",
    "mycursor.close()\n",
    "\n",
    "three_char_iucr_df = pd.DataFrame(results, columns=['num_3_characters'])\n",
    "\n",
    "print(three_char_iucr_df)"
   ]
  },
  {
   "cell_type": "code",
   "execution_count": 20,
   "metadata": {},
   "outputs": [
    {
     "name": "stdout",
     "output_type": "stream",
     "text": [
      "Empty DataFrame\n",
      "Columns: []\n",
      "Index: []\n"
     ]
    }
   ],
   "source": [
    "mycursor = conx.cursor()\n",
    "\n",
    "homicide_iucr = \"SELECT iucr, primary_description, secondary_description FROM codes WHERE iucr = '110'\"\n",
    "\n",
    "mycursor.execute(homicide_iucr)\n",
    "results = mycursor.fetchall()\n",
    "mycursor.close()\n",
    "\n",
    "homicide_iucr_df = pd.DataFrame(results)\n",
    "\n",
    "print(homicide_iucr_df)"
   ]
  },
  {
   "cell_type": "code",
   "execution_count": 12,
   "metadata": {},
   "outputs": [
    {
     "name": "stdout",
     "output_type": "stream",
     "text": [
      "402\n",
      "8\n"
     ]
    },
    {
     "data": {
      "image/png": "[encoded data removed]",
      "text/plain": [
       "<Figure size 640x480 with 1 Axes>"
      ]
     },
     "metadata": {},
     "output_type": "display_data"
    }
   ],
   "source": [
    "\n",
    "mycursor = conx.cursor()\n",
    "\n",
    "query_actives = \"SELECT COUNT(*) FROM codes WHERE active = 1\"\n",
    "\n",
    "query_inactives = \"SELECT COUNT(*) FROM codes WHERE active = 0\"\n",
    "\n",
    "\n",
    "mycursor.execute(query_actives)\n",
    "active = mycursor.fetchone()[0]\n",
    "\n",
    "mycursor.execute(query_inactives)\n",
    "inactive = mycursor.fetchone()[0]\n",
    "\n",
    "print(active)\n",
    "print(inactive)\n",
    "\n",
    "mycursor.close()\n",
    "\n",
    "\n",
    "labels = ['Actives', 'Inactives']\n",
    "sizes = [active, inactive]\n",
    "colors = plt.cm.tab10.colors\n",
    "explode = (0.1, 0)  \n",
    "\n",
    "\n",
    "plt.pie(sizes, explode=explode, labels=labels, colors=colors, autopct='%1.1f%%', shadow=True, startangle=140)\n",
    "plt.axis('equal')  \n",
    "\n",
    "plt.title('IUCR Codes Actives vs. Inactives')\n",
    "plt.show()\n",
    "\n",
    "\n"
   ]
  },
  {
   "cell_type": "markdown",
   "metadata": {},
   "source": [
    "The pie chart provides a visual representation of the distribution of IUCR codes according to their activity status, where \"active\" codes are those that are currently in use and \"inactive\" codes are those that have been retired but retained for historical reference. The graph shows that the vast majority of IUCR codes are active, accounting for 98% of the total, while only 2% are inactive."
   ]
  },
  {
   "cell_type": "code",
   "execution_count": 12,
   "metadata": {},
   "outputs": [
    {
     "name": "stdout",
     "output_type": "stream",
     "text": [
      "    iucr\n",
      "0   0491\n",
      "1   1475\n",
      "2   1521\n",
      "3   1542\n",
      "4   1623\n",
      "5   1624\n",
      "6   1632\n",
      "7   1633\n",
      "8   1690\n",
      "9   1691\n",
      "10  1692\n",
      "11  1693\n",
      "12  1694\n",
      "13  1695\n",
      "14  1696\n",
      "15  1775\n",
      "16  2500\n",
      "17  4410\n",
      "18  4420\n"
     ]
    }
   ],
   "source": [
    "mycursor = conx.cursor()\n",
    "\n",
    "# iucr present in codes but not in crimes, that means, codes that don't appear in our dataset.\n",
    "not_in_crimes = \"SELECT iucr FROM codes EXCEPT SELECT iucr FROM crimes\"\n",
    "\n",
    "mycursor.execute(not_in_crimes)\n",
    "results = mycursor.fetchall()\n",
    "\n",
    "mycursor.close()\n",
    "\n",
    "diff_iucr = pd.DataFrame(results, columns=['iucr'])\n",
    "\n",
    "print(diff_iucr)"
   ]
  },
  {
   "cell_type": "markdown",
   "metadata": {},
   "source": [
    "We can see that out of 410 existent IUCR codes, 18 of them are not present in our crimes table. We have to remove these values because of the foreign key condition of this column."
   ]
  },
  {
   "cell_type": "code",
   "execution_count": 19,
   "metadata": {},
   "outputs": [
    {
     "data": {
      "text/plain": [
       "True"
      ]
     },
     "execution_count": 19,
     "metadata": {},
     "output_type": "execute_result"
    }
   ],
   "source": [
    "mycursor = conx.cursor()\n",
    "\n",
    "# iucr present in codes but not in crimes, that means, codes that don't appear in our dataset.\n",
    "not_in_crimes = \"\"\"DELETE FROM codes c\n",
    "                    WHERE c.iucr NOT IN (\n",
    "                        SELECT iucr FROM crimes)\"\"\"\n",
    "\n",
    "mycursor.execute(not_in_crimes)\n",
    "conx.commit()\n",
    "mycursor.close()\n"
   ]
  },
  {
   "cell_type": "code",
   "execution_count": 13,
   "metadata": {},
   "outputs": [
    {
     "name": "stdout",
     "output_type": "stream",
     "text": [
      "108\n",
      "302\n"
     ]
    },
    {
     "data": {
      "image/png": "[encoded data removed]",
      "text/plain": [
       "<Figure size 640x480 with 1 Axes>"
      ]
     },
     "metadata": {},
     "output_type": "display_data"
    }
   ],
   "source": [
    "mycursor = conx.cursor()\n",
    "\n",
    "query_index = \"SELECT COUNT(*) FROM codes WHERE index_code = 'I'\"\n",
    "\n",
    "query_non_index = \"SELECT COUNT(*) FROM codes WHERE index_code = 'N'\"\n",
    "\n",
    "\n",
    "mycursor.execute(query_index)\n",
    "index = mycursor.fetchone()[0]\n",
    "\n",
    "mycursor.execute(query_non_index)\n",
    "non_index = mycursor.fetchone()[0]\n",
    "\n",
    "print(index)\n",
    "print(non_index)\n",
    "\n",
    "mycursor.close()\n",
    "\n",
    "labels = ['Index', 'Non-Index']\n",
    "sizes = [index, non_index]\n",
    "colors = plt.cm.tab20.colors\n",
    "explode = (0.1, 0)  \n",
    "\n",
    "\n",
    "plt.pie(sizes, explode=explode, labels=labels, colors=colors, autopct='%1.1f%%', shadow=True, startangle=140)\n",
    "plt.axis('equal')  \n",
    "\n",
    "plt.title('Index vs Non-Index Crimes')\n",
    "plt.show()"
   ]
  },
  {
   "cell_type": "markdown",
   "metadata": {},
   "source": [
    "The graph shows that 26.3% of crimes in Chicago are classified as \"index crimes,\" which means they are serious crimes that typically receive increased scrutiny and follow-up by law enforcement. The remainder (73.7%), representing the majority of crimes, fall into the \"non-index\" category. This suggests that the majority of crimes in Chicago are less serious or less violent in nature compared to \"index\" crimes."
   ]
  }
 ],
 "metadata": {
  "kernelspec": {
   "display_name": "etl_env",
   "language": "python",
   "name": "python3"
  },
  "language_info": {
   "codemirror_mode": {
    "name": "ipython",
    "version": 3
   },
   "file_extension": ".py",
   "mimetype": "text/x-python",
   "name": "python",
   "nbconvert_exporter": "python",
   "pygments_lexer": "ipython3",
   "version": "3.10.11"
  },
  "orig_nbformat": 4
 },
 "nbformat": 4,
 "nbformat_minor": 2
}
