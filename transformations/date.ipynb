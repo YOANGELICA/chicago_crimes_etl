{
 "cells": [
  {
   "cell_type": "code",
   "execution_count": 65,
   "metadata": {},
   "outputs": [],
   "source": [
    "import pandas as pd"
   ]
  },
  {
   "cell_type": "code",
   "execution_count": 31,
   "metadata": {},
   "outputs": [],
   "source": [
    "main_df = pd.read_csv('../data/data_sample.csv')"
   ]
  },
  {
   "cell_type": "code",
   "execution_count": 32,
   "metadata": {},
   "outputs": [],
   "source": [
    "columns_to_drop = ['case_number', 'domestic', 'beat', 'ward', 'community_area', 'fbi_code', 'x_coord', 'y_coord', 'latitude', 'longitude', 'primary_type', 'description']\n",
    "main_df.drop(columns=columns_to_drop, inplace=True)"
   ]
  },
  {
   "cell_type": "code",
   "execution_count": 33,
   "metadata": {},
   "outputs": [
    {
     "data": {
      "text/plain": [
       "(3879349, 11)"
      ]
     },
     "execution_count": 33,
     "metadata": {},
     "output_type": "execute_result"
    }
   ],
   "source": [
    "main_df.shape"
   ]
  },
  {
   "cell_type": "code",
   "execution_count": 34,
   "metadata": {},
   "outputs": [],
   "source": [
    "update_df = pd.read_csv('../data/clean_new_data.csv')"
   ]
  },
  {
   "cell_type": "code",
   "execution_count": 35,
   "metadata": {},
   "outputs": [
    {
     "data": {
      "text/plain": [
       "(50297, 11)"
      ]
     },
     "execution_count": 35,
     "metadata": {},
     "output_type": "execute_result"
    }
   ],
   "source": [
    "update_df.shape"
   ]
  },
  {
   "cell_type": "code",
   "execution_count": 36,
   "metadata": {},
   "outputs": [
    {
     "data": {
      "text/html": [
       "<div>\n",
       "<style scoped>\n",
       "    .dataframe tbody tr th:only-of-type {\n",
       "        vertical-align: middle;\n",
       "    }\n",
       "\n",
       "    .dataframe tbody tr th {\n",
       "        vertical-align: top;\n",
       "    }\n",
       "\n",
       "    .dataframe thead th {\n",
       "        text-align: right;\n",
       "    }\n",
       "</style>\n",
       "<table border=\"1\" class=\"dataframe\">\n",
       "  <thead>\n",
       "    <tr style=\"text-align: right;\">\n",
       "      <th></th>\n",
       "      <th>id</th>\n",
       "      <th>date</th>\n",
       "      <th>time</th>\n",
       "      <th>block</th>\n",
       "      <th>iucr</th>\n",
       "      <th>location_desc</th>\n",
       "      <th>arrest</th>\n",
       "      <th>district</th>\n",
       "      <th>year</th>\n",
       "      <th>updated_on</th>\n",
       "      <th>location</th>\n",
       "    </tr>\n",
       "  </thead>\n",
       "  <tbody>\n",
       "    <tr>\n",
       "      <th>0</th>\n",
       "      <td>13218359</td>\n",
       "      <td>2023-09-21</td>\n",
       "      <td>00:00:00.000</td>\n",
       "      <td>114XX S UNION AVE</td>\n",
       "      <td>0820</td>\n",
       "      <td>STREET</td>\n",
       "      <td>0</td>\n",
       "      <td>22</td>\n",
       "      <td>2023</td>\n",
       "      <td>2023-09-28T15:42:39.000</td>\n",
       "      <td>POINT(41.686123758 -87.639760794)</td>\n",
       "    </tr>\n",
       "    <tr>\n",
       "      <th>1</th>\n",
       "      <td>13220574</td>\n",
       "      <td>2023-09-21</td>\n",
       "      <td>00:00:00.000</td>\n",
       "      <td>070XX N Sheridan Rd</td>\n",
       "      <td>0820</td>\n",
       "      <td>STREET</td>\n",
       "      <td>0</td>\n",
       "      <td>24</td>\n",
       "      <td>2023</td>\n",
       "      <td>2023-09-28T15:42:39.000</td>\n",
       "      <td>POINT(42.010704854 -87.662584365)</td>\n",
       "    </tr>\n",
       "    <tr>\n",
       "      <th>2</th>\n",
       "      <td>13222674</td>\n",
       "      <td>2023-09-21</td>\n",
       "      <td>00:00:00.000</td>\n",
       "      <td>007XX N LA SALLE DR</td>\n",
       "      <td>0460</td>\n",
       "      <td>COMMERCIAL / BUSINESS OFFICE</td>\n",
       "      <td>0</td>\n",
       "      <td>18</td>\n",
       "      <td>2023</td>\n",
       "      <td>2023-09-28T15:42:39.000</td>\n",
       "      <td>POINT(41.896013242 -87.632697553)</td>\n",
       "    </tr>\n",
       "    <tr>\n",
       "      <th>3</th>\n",
       "      <td>13219537</td>\n",
       "      <td>2023-09-21</td>\n",
       "      <td>00:00:00.000</td>\n",
       "      <td>034XX W CULLOM AVE</td>\n",
       "      <td>0890</td>\n",
       "      <td>RESIDENCE</td>\n",
       "      <td>0</td>\n",
       "      <td>17</td>\n",
       "      <td>2023</td>\n",
       "      <td>2023-09-28T15:42:39.000</td>\n",
       "      <td>POINT(41.959301089 -87.713956891)</td>\n",
       "    </tr>\n",
       "    <tr>\n",
       "      <th>4</th>\n",
       "      <td>13217762</td>\n",
       "      <td>2023-09-21</td>\n",
       "      <td>00:00:00.000</td>\n",
       "      <td>0000X S COLUMBUS DR</td>\n",
       "      <td>0920</td>\n",
       "      <td>STREET</td>\n",
       "      <td>0</td>\n",
       "      <td>1</td>\n",
       "      <td>2023</td>\n",
       "      <td>2023-09-28T15:42:39.000</td>\n",
       "      <td>POINT(41.881776822 -87.620767948)</td>\n",
       "    </tr>\n",
       "  </tbody>\n",
       "</table>\n",
       "</div>"
      ],
      "text/plain": [
       "         id        date          time                block  iucr  \\\n",
       "0  13218359  2023-09-21  00:00:00.000    114XX S UNION AVE  0820   \n",
       "1  13220574  2023-09-21  00:00:00.000  070XX N Sheridan Rd  0820   \n",
       "2  13222674  2023-09-21  00:00:00.000  007XX N LA SALLE DR  0460   \n",
       "3  13219537  2023-09-21  00:00:00.000   034XX W CULLOM AVE  0890   \n",
       "4  13217762  2023-09-21  00:00:00.000  0000X S COLUMBUS DR  0920   \n",
       "\n",
       "                  location_desc  arrest  district  year  \\\n",
       "0                        STREET       0        22  2023   \n",
       "1                        STREET       0        24  2023   \n",
       "2  COMMERCIAL / BUSINESS OFFICE       0        18  2023   \n",
       "3                     RESIDENCE       0        17  2023   \n",
       "4                        STREET       0         1  2023   \n",
       "\n",
       "                updated_on                           location  \n",
       "0  2023-09-28T15:42:39.000  POINT(41.686123758 -87.639760794)  \n",
       "1  2023-09-28T15:42:39.000  POINT(42.010704854 -87.662584365)  \n",
       "2  2023-09-28T15:42:39.000  POINT(41.896013242 -87.632697553)  \n",
       "3  2023-09-28T15:42:39.000  POINT(41.959301089 -87.713956891)  \n",
       "4  2023-09-28T15:42:39.000  POINT(41.881776822 -87.620767948)  "
      ]
     },
     "execution_count": 36,
     "metadata": {},
     "output_type": "execute_result"
    }
   ],
   "source": [
    "update_df.head()"
   ]
  },
  {
   "cell_type": "code",
   "execution_count": 66,
   "metadata": {},
   "outputs": [],
   "source": [
    "df_combined = pd.concat([main_df, update_df], ignore_index=True)"
   ]
  },
  {
   "cell_type": "code",
   "execution_count": 67,
   "metadata": {},
   "outputs": [
    {
     "data": {
      "text/plain": [
       "(3929646, 11)"
      ]
     },
     "execution_count": 67,
     "metadata": {},
     "output_type": "execute_result"
    }
   ],
   "source": [
    "df_combined.shape"
   ]
  },
  {
   "cell_type": "code",
   "execution_count": 68,
   "metadata": {},
   "outputs": [
    {
     "data": {
      "text/html": [
       "<div>\n",
       "<style scoped>\n",
       "    .dataframe tbody tr th:only-of-type {\n",
       "        vertical-align: middle;\n",
       "    }\n",
       "\n",
       "    .dataframe tbody tr th {\n",
       "        vertical-align: top;\n",
       "    }\n",
       "\n",
       "    .dataframe thead th {\n",
       "        text-align: right;\n",
       "    }\n",
       "</style>\n",
       "<table border=\"1\" class=\"dataframe\">\n",
       "  <thead>\n",
       "    <tr style=\"text-align: right;\">\n",
       "      <th></th>\n",
       "      <th>id</th>\n",
       "      <th>date</th>\n",
       "      <th>time</th>\n",
       "      <th>block</th>\n",
       "      <th>iucr</th>\n",
       "      <th>location_desc</th>\n",
       "      <th>arrest</th>\n",
       "      <th>district</th>\n",
       "      <th>year</th>\n",
       "      <th>updated_on</th>\n",
       "      <th>location</th>\n",
       "    </tr>\n",
       "  </thead>\n",
       "  <tbody>\n",
       "    <tr>\n",
       "      <th>0</th>\n",
       "      <td>12729961</td>\n",
       "      <td>2022-06-13</td>\n",
       "      <td>11:24:00</td>\n",
       "      <td>036XX S WELLS ST</td>\n",
       "      <td>0810</td>\n",
       "      <td>SCHOOL - PUBLIC BUILDING</td>\n",
       "      <td>0</td>\n",
       "      <td>9</td>\n",
       "      <td>2022</td>\n",
       "      <td>2023-01-03 15:46:28</td>\n",
       "      <td>POINT(41.828347945 -87.632650679)</td>\n",
       "    </tr>\n",
       "    <tr>\n",
       "      <th>1</th>\n",
       "      <td>4674480</td>\n",
       "      <td>2006-04-06</td>\n",
       "      <td>16:49:00</td>\n",
       "      <td>012XX S KARLOV AVE</td>\n",
       "      <td>051A</td>\n",
       "      <td>APARTMENT</td>\n",
       "      <td>0</td>\n",
       "      <td>10</td>\n",
       "      <td>2006</td>\n",
       "      <td>2018-02-28 15:56:25</td>\n",
       "      <td>POINT(41.865419536 -87.727595775)</td>\n",
       "    </tr>\n",
       "    <tr>\n",
       "      <th>2</th>\n",
       "      <td>5100489</td>\n",
       "      <td>2006-11-05</td>\n",
       "      <td>04:10:00</td>\n",
       "      <td>037XX N BROADWAY</td>\n",
       "      <td>2900</td>\n",
       "      <td>SIDEWALK</td>\n",
       "      <td>1</td>\n",
       "      <td>19</td>\n",
       "      <td>2006</td>\n",
       "      <td>2018-02-28 15:56:25</td>\n",
       "      <td>POINT(41.950197458 -87.648999894)</td>\n",
       "    </tr>\n",
       "    <tr>\n",
       "      <th>3</th>\n",
       "      <td>3216998</td>\n",
       "      <td>2004-02-10</td>\n",
       "      <td>02:00:00</td>\n",
       "      <td>028XX W WILCOX ST</td>\n",
       "      <td>2090</td>\n",
       "      <td>SIDEWALK</td>\n",
       "      <td>1</td>\n",
       "      <td>11</td>\n",
       "      <td>2004</td>\n",
       "      <td>2018-02-10 15:50:01</td>\n",
       "      <td>POINT(41.879245552 -87.697229601)</td>\n",
       "    </tr>\n",
       "    <tr>\n",
       "      <th>4</th>\n",
       "      <td>11988664</td>\n",
       "      <td>2020-02-22</td>\n",
       "      <td>07:15:00</td>\n",
       "      <td>075XX W JARVIS AVE</td>\n",
       "      <td>1570</td>\n",
       "      <td>ALLEY</td>\n",
       "      <td>1</td>\n",
       "      <td>16</td>\n",
       "      <td>2020</td>\n",
       "      <td>2020-03-19 15:44:13</td>\n",
       "      <td>POINT(42.015121437 -87.815457954)</td>\n",
       "    </tr>\n",
       "  </tbody>\n",
       "</table>\n",
       "</div>"
      ],
      "text/plain": [
       "         id        date      time               block  iucr  \\\n",
       "0  12729961  2022-06-13  11:24:00    036XX S WELLS ST  0810   \n",
       "1   4674480  2006-04-06  16:49:00  012XX S KARLOV AVE  051A   \n",
       "2   5100489  2006-11-05  04:10:00    037XX N BROADWAY  2900   \n",
       "3   3216998  2004-02-10  02:00:00   028XX W WILCOX ST  2090   \n",
       "4  11988664  2020-02-22  07:15:00  075XX W JARVIS AVE  1570   \n",
       "\n",
       "              location_desc  arrest  district  year           updated_on  \\\n",
       "0  SCHOOL - PUBLIC BUILDING       0         9  2022  2023-01-03 15:46:28   \n",
       "1                 APARTMENT       0        10  2006  2018-02-28 15:56:25   \n",
       "2                  SIDEWALK       1        19  2006  2018-02-28 15:56:25   \n",
       "3                  SIDEWALK       1        11  2004  2018-02-10 15:50:01   \n",
       "4                     ALLEY       1        16  2020  2020-03-19 15:44:13   \n",
       "\n",
       "                            location  \n",
       "0  POINT(41.828347945 -87.632650679)  \n",
       "1  POINT(41.865419536 -87.727595775)  \n",
       "2  POINT(41.950197458 -87.648999894)  \n",
       "3  POINT(41.879245552 -87.697229601)  \n",
       "4  POINT(42.015121437 -87.815457954)  "
      ]
     },
     "execution_count": 68,
     "metadata": {},
     "output_type": "execute_result"
    }
   ],
   "source": [
    "df_combined.head()"
   ]
  },
  {
   "cell_type": "code",
   "execution_count": 69,
   "metadata": {},
   "outputs": [
    {
     "data": {
      "text/html": [
       "<div>\n",
       "<style scoped>\n",
       "    .dataframe tbody tr th:only-of-type {\n",
       "        vertical-align: middle;\n",
       "    }\n",
       "\n",
       "    .dataframe tbody tr th {\n",
       "        vertical-align: top;\n",
       "    }\n",
       "\n",
       "    .dataframe thead th {\n",
       "        text-align: right;\n",
       "    }\n",
       "</style>\n",
       "<table border=\"1\" class=\"dataframe\">\n",
       "  <thead>\n",
       "    <tr style=\"text-align: right;\">\n",
       "      <th></th>\n",
       "      <th>id</th>\n",
       "      <th>date</th>\n",
       "      <th>time</th>\n",
       "      <th>block</th>\n",
       "      <th>iucr</th>\n",
       "      <th>location_desc</th>\n",
       "      <th>arrest</th>\n",
       "      <th>district</th>\n",
       "      <th>year</th>\n",
       "      <th>updated_on</th>\n",
       "      <th>location</th>\n",
       "    </tr>\n",
       "  </thead>\n",
       "  <tbody>\n",
       "    <tr>\n",
       "      <th>3929641</th>\n",
       "      <td>13141484</td>\n",
       "      <td>2023-07-15</td>\n",
       "      <td>08:00:00.000</td>\n",
       "      <td>039XX W FLOURNOY ST</td>\n",
       "      <td>0610</td>\n",
       "      <td>RESIDENCE</td>\n",
       "      <td>0</td>\n",
       "      <td>11</td>\n",
       "      <td>2023</td>\n",
       "      <td>2023-08-19T15:40:26.000</td>\n",
       "      <td>POINT(41.872559142 -87.723786945)</td>\n",
       "    </tr>\n",
       "    <tr>\n",
       "      <th>3929642</th>\n",
       "      <td>13141591</td>\n",
       "      <td>2023-07-15</td>\n",
       "      <td>08:00:00.000</td>\n",
       "      <td>067XX S CRANDON AVE</td>\n",
       "      <td>2820</td>\n",
       "      <td>APARTMENT</td>\n",
       "      <td>0</td>\n",
       "      <td>3</td>\n",
       "      <td>2023</td>\n",
       "      <td>2023-08-19T15:40:26.000</td>\n",
       "      <td>POINT(41.772711564 -87.569952861)</td>\n",
       "    </tr>\n",
       "    <tr>\n",
       "      <th>3929643</th>\n",
       "      <td>13141246</td>\n",
       "      <td>2023-07-15</td>\n",
       "      <td>08:00:00.000</td>\n",
       "      <td>071XX S PAXTON AVE</td>\n",
       "      <td>0910</td>\n",
       "      <td>STREET</td>\n",
       "      <td>0</td>\n",
       "      <td>3</td>\n",
       "      <td>2023</td>\n",
       "      <td>2023-08-19T15:40:26.000</td>\n",
       "      <td>POINT(41.765281136 -87.57136054)</td>\n",
       "    </tr>\n",
       "    <tr>\n",
       "      <th>3929644</th>\n",
       "      <td>13145984</td>\n",
       "      <td>2023-07-15</td>\n",
       "      <td>08:00:00.000</td>\n",
       "      <td>052XX S KEATING AVE</td>\n",
       "      <td>2826</td>\n",
       "      <td>OTHER (SPECIFY)</td>\n",
       "      <td>0</td>\n",
       "      <td>8</td>\n",
       "      <td>2023</td>\n",
       "      <td>2023-08-19T15:40:26.000</td>\n",
       "      <td>POINT(41.79791797 -87.741676545)</td>\n",
       "    </tr>\n",
       "    <tr>\n",
       "      <th>3929645</th>\n",
       "      <td>13164141</td>\n",
       "      <td>2023-07-15</td>\n",
       "      <td>08:00:00.000</td>\n",
       "      <td>075XX N WASHTENAW AVE</td>\n",
       "      <td>1120</td>\n",
       "      <td>SIDEWALK</td>\n",
       "      <td>0</td>\n",
       "      <td>24</td>\n",
       "      <td>2023</td>\n",
       "      <td>2023-08-19T15:40:26.000</td>\n",
       "      <td>POINT(42.018832815 -87.697238751)</td>\n",
       "    </tr>\n",
       "  </tbody>\n",
       "</table>\n",
       "</div>"
      ],
      "text/plain": [
       "               id        date          time                  block  iucr  \\\n",
       "3929641  13141484  2023-07-15  08:00:00.000    039XX W FLOURNOY ST  0610   \n",
       "3929642  13141591  2023-07-15  08:00:00.000    067XX S CRANDON AVE  2820   \n",
       "3929643  13141246  2023-07-15  08:00:00.000     071XX S PAXTON AVE  0910   \n",
       "3929644  13145984  2023-07-15  08:00:00.000    052XX S KEATING AVE  2826   \n",
       "3929645  13164141  2023-07-15  08:00:00.000  075XX N WASHTENAW AVE  1120   \n",
       "\n",
       "           location_desc  arrest  district  year               updated_on  \\\n",
       "3929641        RESIDENCE       0        11  2023  2023-08-19T15:40:26.000   \n",
       "3929642        APARTMENT       0         3  2023  2023-08-19T15:40:26.000   \n",
       "3929643           STREET       0         3  2023  2023-08-19T15:40:26.000   \n",
       "3929644  OTHER (SPECIFY)       0         8  2023  2023-08-19T15:40:26.000   \n",
       "3929645         SIDEWALK       0        24  2023  2023-08-19T15:40:26.000   \n",
       "\n",
       "                                  location  \n",
       "3929641  POINT(41.872559142 -87.723786945)  \n",
       "3929642  POINT(41.772711564 -87.569952861)  \n",
       "3929643   POINT(41.765281136 -87.57136054)  \n",
       "3929644   POINT(41.79791797 -87.741676545)  \n",
       "3929645  POINT(42.018832815 -87.697238751)  "
      ]
     },
     "execution_count": 69,
     "metadata": {},
     "output_type": "execute_result"
    }
   ],
   "source": [
    "df_combined.tail()"
   ]
  },
  {
   "cell_type": "code",
   "execution_count": 78,
   "metadata": {},
   "outputs": [],
   "source": [
    "date_df = df_combined[['date']]\n",
    "date_df = date_df.drop_duplicates().reset_index(drop=True)"
   ]
  },
  {
   "cell_type": "code",
   "execution_count": 79,
   "metadata": {},
   "outputs": [
    {
     "data": {
      "text/plain": [
       "(8299, 1)"
      ]
     },
     "execution_count": 79,
     "metadata": {},
     "output_type": "execute_result"
    }
   ],
   "source": [
    "date_df.shape"
   ]
  },
  {
   "cell_type": "code",
   "execution_count": 80,
   "metadata": {},
   "outputs": [
    {
     "data": {
      "text/html": [
       "<div>\n",
       "<style scoped>\n",
       "    .dataframe tbody tr th:only-of-type {\n",
       "        vertical-align: middle;\n",
       "    }\n",
       "\n",
       "    .dataframe tbody tr th {\n",
       "        vertical-align: top;\n",
       "    }\n",
       "\n",
       "    .dataframe thead th {\n",
       "        text-align: right;\n",
       "    }\n",
       "</style>\n",
       "<table border=\"1\" class=\"dataframe\">\n",
       "  <thead>\n",
       "    <tr style=\"text-align: right;\">\n",
       "      <th></th>\n",
       "      <th>date</th>\n",
       "    </tr>\n",
       "  </thead>\n",
       "  <tbody>\n",
       "    <tr>\n",
       "      <th>0</th>\n",
       "      <td>2022-06-13</td>\n",
       "    </tr>\n",
       "    <tr>\n",
       "      <th>1</th>\n",
       "      <td>2006-04-06</td>\n",
       "    </tr>\n",
       "    <tr>\n",
       "      <th>2</th>\n",
       "      <td>2006-11-05</td>\n",
       "    </tr>\n",
       "    <tr>\n",
       "      <th>3</th>\n",
       "      <td>2004-02-10</td>\n",
       "    </tr>\n",
       "    <tr>\n",
       "      <th>4</th>\n",
       "      <td>2020-02-22</td>\n",
       "    </tr>\n",
       "  </tbody>\n",
       "</table>\n",
       "</div>"
      ],
      "text/plain": [
       "         date\n",
       "0  2022-06-13\n",
       "1  2006-04-06\n",
       "2  2006-11-05\n",
       "3  2004-02-10\n",
       "4  2020-02-22"
      ]
     },
     "execution_count": 80,
     "metadata": {},
     "output_type": "execute_result"
    }
   ],
   "source": [
    "date_df.head()"
   ]
  },
  {
   "cell_type": "code",
   "execution_count": 83,
   "metadata": {},
   "outputs": [],
   "source": [
    "date_df['date'] = pd.to_datetime(date_df['date'])"
   ]
  },
  {
   "cell_type": "code",
   "execution_count": 84,
   "metadata": {},
   "outputs": [],
   "source": [
    "date_df['date_id'] = date_df['date'].dt.strftime('%Y%m%d')"
   ]
  },
  {
   "cell_type": "code",
   "execution_count": 88,
   "metadata": {},
   "outputs": [],
   "source": [
    "date_df['year'] = date_df['date'].dt.year"
   ]
  },
  {
   "cell_type": "code",
   "execution_count": 91,
   "metadata": {},
   "outputs": [],
   "source": [
    "date_df['month'] = date_df['date'].dt.strftime('%B')"
   ]
  },
  {
   "cell_type": "code",
   "execution_count": 92,
   "metadata": {},
   "outputs": [],
   "source": [
    "date_df['day_week'] = date_df['date'].dt.strftime('%A')"
   ]
  },
  {
   "cell_type": "code",
   "execution_count": 60,
   "metadata": {},
   "outputs": [],
   "source": [
    "date_df = date_df[['date_id', 'date', 'year', 'month', 'day_week']]"
   ]
  },
  {
   "cell_type": "code",
   "execution_count": 61,
   "metadata": {},
   "outputs": [
    {
     "data": {
      "text/html": [
       "<div>\n",
       "<style scoped>\n",
       "    .dataframe tbody tr th:only-of-type {\n",
       "        vertical-align: middle;\n",
       "    }\n",
       "\n",
       "    .dataframe tbody tr th {\n",
       "        vertical-align: top;\n",
       "    }\n",
       "\n",
       "    .dataframe thead th {\n",
       "        text-align: right;\n",
       "    }\n",
       "</style>\n",
       "<table border=\"1\" class=\"dataframe\">\n",
       "  <thead>\n",
       "    <tr style=\"text-align: right;\">\n",
       "      <th></th>\n",
       "      <th>date_id</th>\n",
       "      <th>date</th>\n",
       "      <th>year</th>\n",
       "      <th>month</th>\n",
       "      <th>day_week</th>\n",
       "    </tr>\n",
       "  </thead>\n",
       "  <tbody>\n",
       "    <tr>\n",
       "      <th>0</th>\n",
       "      <td>20220613</td>\n",
       "      <td>2022-06-13</td>\n",
       "      <td>2022</td>\n",
       "      <td>June</td>\n",
       "      <td>Monday</td>\n",
       "    </tr>\n",
       "    <tr>\n",
       "      <th>1</th>\n",
       "      <td>20060406</td>\n",
       "      <td>2006-04-06</td>\n",
       "      <td>2006</td>\n",
       "      <td>April</td>\n",
       "      <td>Thursday</td>\n",
       "    </tr>\n",
       "    <tr>\n",
       "      <th>2</th>\n",
       "      <td>20061105</td>\n",
       "      <td>2006-11-05</td>\n",
       "      <td>2006</td>\n",
       "      <td>November</td>\n",
       "      <td>Sunday</td>\n",
       "    </tr>\n",
       "    <tr>\n",
       "      <th>3</th>\n",
       "      <td>20040210</td>\n",
       "      <td>2004-02-10</td>\n",
       "      <td>2004</td>\n",
       "      <td>February</td>\n",
       "      <td>Tuesday</td>\n",
       "    </tr>\n",
       "    <tr>\n",
       "      <th>4</th>\n",
       "      <td>20200222</td>\n",
       "      <td>2020-02-22</td>\n",
       "      <td>2020</td>\n",
       "      <td>February</td>\n",
       "      <td>Saturday</td>\n",
       "    </tr>\n",
       "  </tbody>\n",
       "</table>\n",
       "</div>"
      ],
      "text/plain": [
       "    date_id       date  year     month  day_week\n",
       "0  20220613 2022-06-13  2022      June    Monday\n",
       "1  20060406 2006-04-06  2006     April  Thursday\n",
       "2  20061105 2006-11-05  2006  November    Sunday\n",
       "3  20040210 2004-02-10  2004  February   Tuesday\n",
       "4  20200222 2020-02-22  2020  February  Saturday"
      ]
     },
     "execution_count": 61,
     "metadata": {},
     "output_type": "execute_result"
    }
   ],
   "source": [
    "date_df.head()"
   ]
  }
 ],
 "metadata": {
  "kernelspec": {
   "display_name": "etl_env",
   "language": "python",
   "name": "python3"
  },
  "language_info": {
   "codemirror_mode": {
    "name": "ipython",
    "version": 3
   },
   "file_extension": ".py",
   "mimetype": "text/x-python",
   "name": "python",
   "nbconvert_exporter": "python",
   "pygments_lexer": "ipython3",
   "version": "3.10.11"
  }
 },
 "nbformat": 4,
 "nbformat_minor": 2
}
